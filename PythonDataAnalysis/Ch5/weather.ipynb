{
 "cells": [
  {
   "cell_type": "code",
   "execution_count": 1,
   "metadata": {},
   "outputs": [],
   "source": [
    "import numpy as np\n",
    "import matplotlib.pyplot as plt\n",
    "import seaborn as sb"
   ]
  },
  {
   "cell_type": "code",
   "execution_count": 2,
   "metadata": {},
   "outputs": [],
   "source": [
    "%matplotlib inline\n",
    "%config InlineBackend.figure_format='retina'"
   ]
  },
  {
   "cell_type": "code",
   "execution_count": 3,
   "metadata": {},
   "outputs": [],
   "source": [
    "import urllib"
   ]
  },
  {
   "cell_type": "code",
   "execution_count": 4,
   "metadata": {},
   "outputs": [
    {
     "data": {
      "text/plain": [
       "('stations.txt', <email.message.Message at 0x7fa4922ffc70>)"
      ]
     },
     "execution_count": 4,
     "metadata": {},
     "output_type": "execute_result"
    }
   ],
   "source": [
    "urllib.request.urlretrieve('ftp://ftp.ncdc.noaa.gov/pub/data/ghcn/daily/ghcnd-stations.txt', 'stations.txt')"
   ]
  },
  {
   "cell_type": "code",
   "execution_count": 6,
   "metadata": {},
   "outputs": [
    {
     "data": {
      "text/plain": [
       "('apr20.txt', <email.message.Message at 0x7fa480f0b370>)"
      ]
     },
     "execution_count": 6,
     "metadata": {},
     "output_type": "execute_result"
    }
   ],
   "source": [
    "urllib.request.urlretrieve('ftp://ftp.ncdc.noaa.gov/pub/data/ghcn/daily/', 'apr20.txt')"
   ]
  },
  {
   "cell_type": "markdown",
   "metadata": {},
   "source": [
    "The above FTP file shows what the downloadable FTP extensions are. It's where you can see that ghcnd-stations.txt is a file that can be downloaded."
   ]
  },
  {
   "cell_type": "code",
   "execution_count": 10,
   "metadata": {},
   "outputs": [
    {
     "name": "stdout",
     "output_type": "stream",
     "text": [
      "ACW00011604  17.1167  -61.7833   10.1    ST JOHNS COOLIDGE FLD                       \n",
      "\n",
      "ACW00011647  17.1333  -61.7833   19.2    ST JOHNS                                    \n",
      "\n",
      "AE000041196  25.3330   55.5170   34.0    SHARJAH INTER. AIRP            GSN     41196\n",
      "\n",
      "AEM00041194  25.2550   55.3640   10.4    DUBAI INTL                             41194\n",
      "\n",
      "AEM00041217  24.4330   54.6510   26.8    ABU DHABI INTL                         41217\n",
      "\n",
      "AEM00041218  24.2620   55.6090  264.9    AL AIN INTL                            41218\n",
      "\n",
      "AF000040930  35.3170   69.0170 3366.0    NORTH-SALANG                   GSN     40930\n",
      "\n",
      "AFM00040938  34.2100   62.2280  977.2    HERAT                                  40938\n",
      "\n",
      "AFM00040948  34.5660   69.2120 1791.3    KABUL INTL                             40948\n",
      "\n",
      "AFM00040990  31.5000   65.8500 1010.0    KANDAHAR AIRPORT                       40990\n",
      "\n"
     ]
    }
   ],
   "source": [
    "with open('stations.txt', 'r') as f:\n",
    "    for i in range(10):\n",
    "        line = f.readline()\n",
    "        print(line)"
   ]
  },
  {
   "cell_type": "markdown",
   "metadata": {},
   "source": [
    "We are only interested in the GSN stations."
   ]
  },
  {
   "cell_type": "code",
   "execution_count": 11,
   "metadata": {},
   "outputs": [],
   "source": [
    "stations = {}\n",
    "for line in open('stations.txt', 'r'):\n",
    "    if 'GSN' in line:\n",
    "        fields = line.split()\n",
    "        stations[fields[0]] = ' '.join(fields[4:])"
   ]
  },
  {
   "cell_type": "code",
   "execution_count": 13,
   "metadata": {},
   "outputs": [
    {
     "data": {
      "text/plain": [
       "[('AE000041196', 'SHARJAH INTER. AIRP GSN 41196'),\n",
       " ('AF000040930', 'NORTH-SALANG GSN 40930'),\n",
       " ('AG000060390', 'ALGER-DAR EL BEIDA GSN 60390'),\n",
       " ('AG000060590', 'EL-GOLEA GSN 60590'),\n",
       " ('AG000060611', 'IN-AMENAS GSN 60611')]"
      ]
     },
     "execution_count": 13,
     "metadata": {},
     "output_type": "execute_result"
    }
   ],
   "source": [
    "list(stations.items())[:5]"
   ]
  },
  {
   "cell_type": "code",
   "execution_count": 14,
   "metadata": {},
   "outputs": [
    {
     "data": {
      "text/plain": [
       "994"
      ]
     },
     "execution_count": 14,
     "metadata": {},
     "output_type": "execute_result"
    }
   ],
   "source": [
    "len(stations)"
   ]
  },
  {
   "cell_type": "markdown",
   "metadata": {},
   "source": [
    "We want to narrow down the number of stations a little bit."
   ]
  },
  {
   "cell_type": "code",
   "execution_count": 15,
   "metadata": {},
   "outputs": [],
   "source": [
    "def findstations(s):\n",
    "    found = {code: name for code, name in stations.items() if s in name}\n",
    "    print(found)"
   ]
  },
  {
   "cell_type": "code",
   "execution_count": 16,
   "metadata": {},
   "outputs": [
    {
     "name": "stdout",
     "output_type": "stream",
     "text": [
      "{'USW00022536': 'HI LIHUE WSO AP 1020.1 GSN 91165'}\n"
     ]
    }
   ],
   "source": [
    "findstations('LIHUE')"
   ]
  },
  {
   "cell_type": "code",
   "execution_count": 17,
   "metadata": {},
   "outputs": [
    {
     "name": "stdout",
     "output_type": "stream",
     "text": [
      "{'USW00023188': 'CA SAN DIEGO LINDBERGH FLD GSN 72290'}\n"
     ]
    }
   ],
   "source": [
    "findstations('SAN DIEGO')"
   ]
  },
  {
   "cell_type": "code",
   "execution_count": 18,
   "metadata": {},
   "outputs": [
    {
     "name": "stdout",
     "output_type": "stream",
     "text": [
      "{'USW00014922': 'MN MINNEAPOLIS/ST PAUL AP GSN HCN 72658'}\n"
     ]
    }
   ],
   "source": [
    "findstations('MINNEAPOLIS')"
   ]
  },
  {
   "cell_type": "code",
   "execution_count": 19,
   "metadata": {},
   "outputs": [
    {
     "name": "stdout",
     "output_type": "stream",
     "text": [
      "{'RSM00030710': 'IRKUTSK GSN 30710'}\n"
     ]
    }
   ],
   "source": [
    "findstations('IRKUTSK')"
   ]
  },
  {
   "cell_type": "markdown",
   "metadata": {},
   "source": [
    "These 4 stations are interesting. There is one on Kauai, one in San Diego, one in Minneapolis, and one in Irkutsk, Siberia."
   ]
  },
  {
   "cell_type": "code",
   "execution_count": 20,
   "metadata": {},
   "outputs": [],
   "source": [
    "datastations = ['USW00022536', 'USW00023188', 'USW00014922', 'RSM00030710']"
   ]
  },
  {
   "cell_type": "markdown",
   "metadata": {},
   "source": [
    "I will now download, via FTP, all of the station data in .dly format. Instructions for this are found at ftp://ftp.ncdc.noaa.gov/pub/data/ghcn/daily/readme.txt."
   ]
  },
  {
   "cell_type": "code",
   "execution_count": 23,
   "metadata": {},
   "outputs": [
    {
     "data": {
      "text/plain": [
       "('lihue.dly', <email.message.Message at 0x7fa492cc5610>)"
      ]
     },
     "execution_count": 23,
     "metadata": {},
     "output_type": "execute_result"
    }
   ],
   "source": [
    "urllib.request.urlretrieve('ftp://ftp.ncdc.noaa.gov/pub/data/ghcn/daily/all/USW00022536.dly', 'lihue.dly')"
   ]
  },
  {
   "cell_type": "code",
   "execution_count": 24,
   "metadata": {},
   "outputs": [
    {
     "data": {
      "text/plain": [
       "('sandiego.dly', <email.message.Message at 0x7fa492cc57c0>)"
      ]
     },
     "execution_count": 24,
     "metadata": {},
     "output_type": "execute_result"
    }
   ],
   "source": [
    "urllib.request.urlretrieve('ftp://ftp.ncdc.noaa.gov/pub/data/ghcn/daily/all/USW00023188.dly', 'sandiego.dly')"
   ]
  },
  {
   "cell_type": "code",
   "execution_count": 25,
   "metadata": {},
   "outputs": [
    {
     "data": {
      "text/plain": [
       "('minneapolis.dly', <email.message.Message at 0x7fa492cc58e0>)"
      ]
     },
     "execution_count": 25,
     "metadata": {},
     "output_type": "execute_result"
    }
   ],
   "source": [
    "urllib.request.urlretrieve('ftp://ftp.ncdc.noaa.gov/pub/data/ghcn/daily/all/USW00014922.dly', 'minneapolis.dly')"
   ]
  },
  {
   "cell_type": "code",
   "execution_count": null,
   "metadata": {},
   "outputs": [],
   "source": [
    "urllib.request.urlretrieve('ftp://ftp.ncdc.noaa.gov/pub/data/ghcn/daily/all/RSM00030710.dly', 'siberia.dly')"
   ]
  },
  {
   "cell_type": "markdown",
   "metadata": {},
   "source": [
    "The format for the .dly is described in the readme.txt in section III."
   ]
  },
  {
   "cell_type": "code",
   "execution_count": 28,
   "metadata": {},
   "outputs": [
    {
     "data": {
      "text/plain": [
       "('readme.txt', <email.message.Message at 0x7fa492cc5be0>)"
      ]
     },
     "execution_count": 28,
     "metadata": {},
     "output_type": "execute_result"
    }
   ],
   "source": [
    "urllib.request.urlretrieve('ftp://ftp.ncdc.noaa.gov/pub/data/ghcn/daily/readme.txt', 'readme.txt')"
   ]
  },
  {
   "cell_type": "code",
   "execution_count": 29,
   "metadata": {},
   "outputs": [
    {
     "name": "stdout",
     "output_type": "stream",
     "text": [
      "USW00022536195002TMAX  256  0  256  0  256  0  267  0  217  0  228  0  256  0  272  0  256  0  256  0  256  0  244  0  256  0  256  0  244  0  244  0  250  0  256  0  239  0  250  0  256  0  256  0  267  0  261  0  267  0  267  0  261  0  261  0-9999   -9999   -9999   \n",
      "\n",
      "USW00022536195002TMIN  178  0  156  0  161  0  167  0  167  0  167  0  189  0  211  0  206  0  217  0  217  0  211  0  200  0  200  0  206  0  183  0  206  0  206  0  206  0  194  0  206  0  200  0  206  0  200  0  211  0  183  0  172  0  200  0-9999   -9999   -9999   \n",
      "\n",
      "USW00022536195002PRCP    0  0    0  0    0  0    0  0  737  0  406  0   36  0   38  0    0T 0    0T 0    0  0    0T 0   18  0    5  0   10  0   18  0   15  0    5  0    0T 0    0T 0   23  0   10  0    3  0   48  0    0T 0    0T 0    0T 0    5  0-9999   -9999   -9999   \n",
      "\n",
      "USW00022536195002SNOW    0  0    0  0    0  0    0  0    0  0    0  0    0  0    0  0    0  0    0  0    0  0    0  0    0  0    0  0    0  0    0  0    0  0    0  0    0  0    0  0    0  0    0  0    0  0    0  0    0  0    0  0    0  0    0  0-9999   -9999   -9999   \n",
      "\n",
      "USW00022536195002SNWD    0  0    0  0    0  0    0  0    0  0    0  0    0  0    0  0    0  0    0  0    0  0    0  0    0  0    0  0    0  0    0  0    0  0    0  0    0  0    0  0    0  0    0  0    0  0    0  0    0  0    0  0    0  0    0  0-9999   -9999   -9999   \n",
      "\n",
      "USW00022536195002WT03-9999   -9999   -9999   -9999       1  0-9999   -9999   -9999   -9999   -9999   -9999   -9999   -9999   -9999   -9999   -9999   -9999   -9999   -9999   -9999   -9999   -9999   -9999   -9999   -9999   -9999   -9999   -9999   -9999   -9999   -9999   \n",
      "\n",
      "USW00022536195002WT16-9999   -9999   -9999   -9999       1  X    1  X    1  X    1  X    1  X    1  X-9999       1  X    1  X    1  X    1  X    1  X    1  X    1  X    1  X    1  X    1  X    1  X    1  X    1  X    1  X    1  X    1  X    1  X-9999   -9999   -9999   \n",
      "\n",
      "USW00022536195003TMAX  261  0  261  0  272  0  278  0  250  0  233  0  256  0  272  0  233  0  233  0  239  0  244  0  256  0  261  0  256  0  261  0  272  0  261  0  267  0  244  0  256  0  261  0  250  0  256  0  261  0  256  0  256  0  250  0  244  0  239  0  222  0\n",
      "\n",
      "USW00022536195003TMIN  211  0  172  0  144  0  139  0  156  0  178  0  200  0  156  0  172  0  161  0  178  0  189  0  189  0  200  0  189  0  183  0  200  0  194  0  200  0  194  0  206  0  200  0  194  0  189  0  200  0  194  0  194  0  189  0  178  0  189  0  161  0\n",
      "\n",
      "USW00022536195003PRCP    0T 0    3  0    0  0    0T 0  135  0    0T 0    0  0   41  0  876  0   30  0   20  0    0T 0    0T 0   10  0    0  0    0  0    0  0    3  0    0T 0   25  0    8  0    8  0   18  0   15  0    3  0   91  0   56  0   10  0    5  0    0T 0   61  0\n",
      "\n"
     ]
    }
   ],
   "source": [
    "with open('lihue.dly') as f:\n",
    "    for i in range(10):\n",
    "        line = f.readline()\n",
    "        print(line)"
   ]
  },
  {
   "cell_type": "code",
   "execution_count": 41,
   "metadata": {},
   "outputs": [
    {
     "name": "stdout",
     "output_type": "stream",
     "text": [
      "III. FORMAT OF DATA FILES (\".dly\" FILES)\n",
      "\n",
      "Each \".dly\" file contains data for one station.  The name of the file\n",
      "corresponds to a station's identification code.  For example, \"USC00026481.dly\"\n",
      "contains the data for the station with the identification code USC00026481).\n",
      "\n",
      "Each record in a file contains one month of daily data.  The variables on each\n",
      "line include the following:\n",
      "\n",
      "------------------------------\n",
      "Variable   Columns   Type\n",
      "------------------------------\n",
      "ID            1-11   Character\n",
      "YEAR         12-15   Integer\n",
      "MONTH        16-17   Integer\n",
      "ELEMENT      18-21   Character\n",
      "VALUE1       22-26   Integer\n",
      "MFLAG1       27-27   Character\n",
      "QFLAG1       28-28   Character\n",
      "SFLAG1       29-29   Character\n",
      "VALUE2       30-34   Integer\n",
      "MFLAG2       35-35   Character\n",
      "QFLAG2       36-36   Character\n",
      "SFLAG2       37-37   Character\n",
      "  .           .          .\n",
      "  .           .          .\n",
      "  .           .          .\n",
      "VALUE31    262-266   Integer\n",
      "MFLAG31    267-267   Character\n",
      "QFLAG31    268-268   Character\n",
      "SFLAG31    269-269   Character\n",
      "------------------------------\n"
     ]
    }
   ],
   "source": [
    "with open('readme.txt', 'r') as f:\n",
    "    lines = f.readlines()[98:132]\n",
    "    print(''.join(lines).strip())"
   ]
  },
  {
   "cell_type": "code",
   "execution_count": 42,
   "metadata": {},
   "outputs": [],
   "source": [
    "def parsefile(filename):\n",
    "    return np.genfromtxt(filename,\n",
    "                        delimiter = dly_delimiter,\n",
    "                        usecols = dly_usecols,\n",
    "                        dtype = dly_dtype,\n",
    "                        names = dly_names)"
   ]
  },
  {
   "cell_type": "code",
   "execution_count": 44,
   "metadata": {},
   "outputs": [],
   "source": [
    "# Create delimiter by looking at the data structure in the readme\n",
    "dly_delimiter = [11, 4, 2, 4] + [5, 1, 1, 1] * 31\n",
    "dly_usecols = [1, 2, 3] + [4*i for i in range(1, 32)] # using only value and skipping the flags\n",
    "dly_dtype = [np.int32, np.int32, (np.str_,4)] + [np.int32] * 31\n",
    "dly_names = ['year', 'month', 'obs'] + [str(day) for day in range(1, 31+1)]"
   ]
  },
  {
   "cell_type": "code",
   "execution_count": 45,
   "metadata": {},
   "outputs": [],
   "source": [
    "lihue = parsefile('lihue.dly')"
   ]
  },
  {
   "cell_type": "code",
   "execution_count": 46,
   "metadata": {},
   "outputs": [
    {
     "data": {
      "text/plain": [
       "array([(1950, 2, 'TMAX',   256,   256,   256, 267,   217,   228,   256,   272,   256,   256,   256,   244,   256,   256,   244,   244,   250,   256,   239,   250,   256,   256,   267,   261,   267,   267,   261,   261, -9999, -9999, -9999),\n",
       "       (1950, 2, 'TMIN',   178,   156,   161, 167,   167,   167,   189,   211,   206,   217,   217,   211,   200,   200,   206,   183,   206,   206,   206,   194,   206,   200,   206,   200,   211,   183,   172,   200, -9999, -9999, -9999),\n",
       "       (1950, 2, 'PRCP',     0,     0,     0,   0,   737,   406,    36,    38,     0,     0,     0,     0,    18,     5,    10,    18,    15,     5,     0,     0,    23,    10,     3,    48,     0,     0,     0,     5, -9999, -9999, -9999),\n",
       "       ...,\n",
       "       (2020, 4, 'WSF5',   134,    89, -9999, 107,    89,   112,   116,    81,    67,   103,   112,   112, -9999, -9999, -9999, -9999, -9999, -9999, -9999, -9999, -9999, -9999, -9999, -9999, -9999, -9999, -9999, -9999, -9999, -9999, -9999),\n",
       "       (2020, 4, 'WT01',     1,     1, -9999,   1,     1,     1, -9999, -9999, -9999, -9999, -9999, -9999, -9999, -9999, -9999, -9999, -9999, -9999, -9999, -9999, -9999, -9999, -9999, -9999, -9999, -9999, -9999, -9999, -9999, -9999, -9999),\n",
       "       (2020, 4, 'WT08', -9999, -9999, -9999,   1, -9999, -9999, -9999, -9999, -9999, -9999, -9999, -9999, -9999, -9999, -9999, -9999, -9999, -9999, -9999, -9999, -9999, -9999, -9999, -9999, -9999, -9999, -9999, -9999, -9999, -9999, -9999)],\n",
       "      dtype=[('year', '<i4'), ('month', '<i4'), ('obs', '<U4'), ('1', '<i4'), ('2', '<i4'), ('3', '<i4'), ('4', '<i4'), ('5', '<i4'), ('6', '<i4'), ('7', '<i4'), ('8', '<i4'), ('9', '<i4'), ('10', '<i4'), ('11', '<i4'), ('12', '<i4'), ('13', '<i4'), ('14', '<i4'), ('15', '<i4'), ('16', '<i4'), ('17', '<i4'), ('18', '<i4'), ('19', '<i4'), ('20', '<i4'), ('21', '<i4'), ('22', '<i4'), ('23', '<i4'), ('24', '<i4'), ('25', '<i4'), ('26', '<i4'), ('27', '<i4'), ('28', '<i4'), ('29', '<i4'), ('30', '<i4'), ('31', '<i4')])"
      ]
     },
     "execution_count": 46,
     "metadata": {},
     "output_type": "execute_result"
    }
   ],
   "source": [
    "lihue"
   ]
  },
  {
   "cell_type": "markdown",
   "metadata": {},
   "source": [
    "The format of this data needs to be massaged a little. It's a rather complicated record array, with the temperature for each day of the month in one row. "
   ]
  },
  {
   "cell_type": "code",
   "execution_count": 54,
   "metadata": {},
   "outputs": [],
   "source": [
    "def unroll(record):\n",
    "    startdate = np.datetime64('{}-{:02}'.format(record['year'], record['month']))\n",
    "    dates = np.arange(startdate, startdate + np.timedelta64(1, 'M'), np.timedelta64(1, 'D'))\n",
    "    \n",
    "    rows = [(date, record[str(i+1)]/10) for i, date in enumerate(dates)]\n",
    "    return rows"
   ]
  },
  {
   "cell_type": "code",
   "execution_count": 55,
   "metadata": {},
   "outputs": [
    {
     "data": {
      "text/plain": [
       "[(numpy.datetime64('1950-02-01'), 25.6),\n",
       " (numpy.datetime64('1950-02-02'), 25.6),\n",
       " (numpy.datetime64('1950-02-03'), 25.6),\n",
       " (numpy.datetime64('1950-02-04'), 26.7),\n",
       " (numpy.datetime64('1950-02-05'), 21.7),\n",
       " (numpy.datetime64('1950-02-06'), 22.8),\n",
       " (numpy.datetime64('1950-02-07'), 25.6),\n",
       " (numpy.datetime64('1950-02-08'), 27.2),\n",
       " (numpy.datetime64('1950-02-09'), 25.6),\n",
       " (numpy.datetime64('1950-02-10'), 25.6),\n",
       " (numpy.datetime64('1950-02-11'), 25.6),\n",
       " (numpy.datetime64('1950-02-12'), 24.4),\n",
       " (numpy.datetime64('1950-02-13'), 25.6),\n",
       " (numpy.datetime64('1950-02-14'), 25.6),\n",
       " (numpy.datetime64('1950-02-15'), 24.4),\n",
       " (numpy.datetime64('1950-02-16'), 24.4),\n",
       " (numpy.datetime64('1950-02-17'), 25.0),\n",
       " (numpy.datetime64('1950-02-18'), 25.6),\n",
       " (numpy.datetime64('1950-02-19'), 23.9),\n",
       " (numpy.datetime64('1950-02-20'), 25.0),\n",
       " (numpy.datetime64('1950-02-21'), 25.6),\n",
       " (numpy.datetime64('1950-02-22'), 25.6),\n",
       " (numpy.datetime64('1950-02-23'), 26.7),\n",
       " (numpy.datetime64('1950-02-24'), 26.1),\n",
       " (numpy.datetime64('1950-02-25'), 26.7),\n",
       " (numpy.datetime64('1950-02-26'), 26.7),\n",
       " (numpy.datetime64('1950-02-27'), 26.1),\n",
       " (numpy.datetime64('1950-02-28'), 26.1)]"
      ]
     },
     "execution_count": 55,
     "metadata": {},
     "output_type": "execute_result"
    }
   ],
   "source": [
    "unroll(lihue[0])"
   ]
  },
  {
   "cell_type": "code",
   "execution_count": 63,
   "metadata": {},
   "outputs": [
    {
     "data": {
      "text/plain": [
       "256"
      ]
     },
     "execution_count": 63,
     "metadata": {},
     "output_type": "execute_result"
    }
   ],
   "source": [
    "lihue[0]['1']"
   ]
  },
  {
   "cell_type": "markdown",
   "metadata": {},
   "source": [
    "The temperature data is given in tenths of degrees so the temperature needs to be divided by 10. Also, recall that the column names for the days, which start after ['year', 'month', 'obs'] are strings, which is why the _record_ argument that is passed to unroll is indexed by a string representation of the integer.\n",
    "\n",
    "Instead of a list of tuples, we would prefer that the function return a numpy record array."
   ]
  },
  {
   "cell_type": "code",
   "execution_count": 65,
   "metadata": {},
   "outputs": [],
   "source": [
    "def unroll(record):\n",
    "    startdate = np.datetime64('{}-{:02}'.format(record['year'], record['month']))\n",
    "    dates = np.arange(startdate, startdate + np.timedelta64(1, 'M'), np.timedelta64(1, 'D'))\n",
    "    \n",
    "    rows = [(date, record[str(i+1)]/10) for i, date in enumerate(dates)]\n",
    "    return np.array(rows, dtype=[('date', 'M8[D]'), ('value', 'd')])"
   ]
  },
  {
   "cell_type": "code",
   "execution_count": 66,
   "metadata": {},
   "outputs": [
    {
     "data": {
      "text/plain": [
       "array([('1950-02-01', 25.6), ('1950-02-02', 25.6), ('1950-02-03', 25.6),\n",
       "       ('1950-02-04', 26.7), ('1950-02-05', 21.7), ('1950-02-06', 22.8),\n",
       "       ('1950-02-07', 25.6), ('1950-02-08', 27.2), ('1950-02-09', 25.6),\n",
       "       ('1950-02-10', 25.6), ('1950-02-11', 25.6), ('1950-02-12', 24.4),\n",
       "       ('1950-02-13', 25.6), ('1950-02-14', 25.6), ('1950-02-15', 24.4),\n",
       "       ('1950-02-16', 24.4), ('1950-02-17', 25. ), ('1950-02-18', 25.6),\n",
       "       ('1950-02-19', 23.9), ('1950-02-20', 25. ), ('1950-02-21', 25.6),\n",
       "       ('1950-02-22', 25.6), ('1950-02-23', 26.7), ('1950-02-24', 26.1),\n",
       "       ('1950-02-25', 26.7), ('1950-02-26', 26.7), ('1950-02-27', 26.1),\n",
       "       ('1950-02-28', 26.1)], dtype=[('date', '<M8[D]'), ('value', '<f8')])"
      ]
     },
     "execution_count": 66,
     "metadata": {},
     "output_type": "execute_result"
    }
   ],
   "source": [
    "unroll(lihue[0])"
   ]
  },
  {
   "cell_type": "code",
   "execution_count": 83,
   "metadata": {},
   "outputs": [],
   "source": [
    "def getobs(filename, obs):\n",
    "    return np.concatenate([unroll(row) for row in parsefile(filename) if row[2] == obs])"
   ]
  },
  {
   "cell_type": "code",
   "execution_count": 88,
   "metadata": {},
   "outputs": [
    {
     "data": {
      "text/plain": [
       "array([('1950-02-01', 17.8), ('1950-02-02', 15.6), ('1950-02-03', 16.1),\n",
       "       ('1950-02-04', 16.7), ('1950-02-05', 16.7), ('1950-02-06', 16.7),\n",
       "       ('1950-02-07', 18.9), ('1950-02-08', 21.1), ('1950-02-09', 20.6),\n",
       "       ('1950-02-10', 21.7), ('1950-02-11', 21.7), ('1950-02-12', 21.1),\n",
       "       ('1950-02-13', 20. ), ('1950-02-14', 20. ), ('1950-02-15', 20.6),\n",
       "       ('1950-02-16', 18.3), ('1950-02-17', 20.6), ('1950-02-18', 20.6),\n",
       "       ('1950-02-19', 20.6), ('1950-02-20', 19.4), ('1950-02-21', 20.6),\n",
       "       ('1950-02-22', 20. ), ('1950-02-23', 20.6), ('1950-02-24', 20. ),\n",
       "       ('1950-02-25', 21.1), ('1950-02-26', 18.3), ('1950-02-27', 17.2),\n",
       "       ('1950-02-28', 20. ), ('1950-03-01', 21.1), ('1950-03-02', 17.2),\n",
       "       ('1950-03-03', 14.4)], dtype=[('date', '<M8[D]'), ('value', '<f8')])"
      ]
     },
     "execution_count": 88,
     "metadata": {},
     "output_type": "execute_result"
    }
   ],
   "source": [
    "test = getobs('lihue.dly', 'TMIN')\n",
    "test[:31]"
   ]
  },
  {
   "cell_type": "markdown",
   "metadata": {},
   "source": [
    "# Dealing with Missing Data"
   ]
  },
  {
   "cell_type": "code",
   "execution_count": 89,
   "metadata": {},
   "outputs": [],
   "source": [
    "lihue_max = getobs('lihue.dly', 'TMAX')\n",
    "lihue_min = getobs('lihue.dly', 'TMIN')"
   ]
  },
  {
   "cell_type": "code",
   "execution_count": 91,
   "metadata": {},
   "outputs": [
    {
     "data": {
      "text/plain": [
       "dtype('float64')"
      ]
     },
     "execution_count": 91,
     "metadata": {},
     "output_type": "execute_result"
    }
   ],
   "source": [
    "lihue_max['value'].dtype"
   ]
  },
  {
   "cell_type": "code",
   "execution_count": 92,
   "metadata": {},
   "outputs": [
    {
     "data": {
      "text/plain": [
       "[<matplotlib.lines.Line2D at 0x7fa4b164e670>]"
      ]
     },
     "execution_count": 92,
     "metadata": {},
     "output_type": "execute_result"
    },
    {
     "data": {
      "image/png": "[encoded data removed]",
      "text/plain": [
       "<Figure size 432x288 with 1 Axes>"
      ]
     },
     "metadata": {
      "image/png": {
       "height": 248,
       "width": 390
      },
      "needs_background": "light"
     },
     "output_type": "display_data"
    }
   ],
   "source": [
    "plt.plot(lihue_max['date'], lihue_max['value'])"
   ]
  },
  {
   "cell_type": "markdown",
   "metadata": {},
   "source": [
    "There are strange values in the dataset."
   ]
  },
  {
   "cell_type": "code",
   "execution_count": 93,
   "metadata": {},
   "outputs": [
    {
     "data": {
      "text/plain": [
       "array([('2019-12-25', -999.9), ('2019-12-26', -999.9),\n",
       "       ('2020-01-12', -999.9), ('2020-01-13', -999.9),\n",
       "       ('2020-03-11', -999.9), ('2020-04-18', -999.9),\n",
       "       ('2020-04-19', -999.9), ('2020-04-20', -999.9),\n",
       "       ('2020-04-21', -999.9), ('2020-04-22', -999.9),\n",
       "       ('2020-04-23', -999.9), ('2020-04-24', -999.9),\n",
       "       ('2020-04-25', -999.9), ('2020-04-26', -999.9),\n",
       "       ('2020-04-27', -999.9), ('2020-04-28', -999.9),\n",
       "       ('2020-04-29', -999.9), ('2020-04-30', -999.9)],\n",
       "      dtype=[('date', '<M8[D]'), ('value', '<f8')])"
      ]
     },
     "execution_count": 93,
     "metadata": {},
     "output_type": "execute_result"
    }
   ],
   "source": [
    "lihue_max[lihue_max['value'] < -200]"
   ]
  },
  {
   "cell_type": "markdown",
   "metadata": {},
   "source": [
    "There are -999.9 values present, which are intended to represent missing values. Let's convert these to nan."
   ]
  },
  {
   "cell_type": "code",
   "execution_count": 94,
   "metadata": {},
   "outputs": [],
   "source": [
    "def getobs(filename, obs):\n",
    "    data = np.concatenate([unroll(row) for row in parsefile(filename) if row[2] == obs])\n",
    "    data['value'][data['value'] == -999.9] = np.nan\n",
    "    \n",
    "    return data"
   ]
  },
  {
   "cell_type": "code",
   "execution_count": 95,
   "metadata": {},
   "outputs": [],
   "source": [
    "lihue_max = getobs('lihue.dly', 'TMAX')\n",
    "lihue_min = getobs('lihue.dly', 'TMIN')"
   ]
  },
  {
   "cell_type": "code",
   "execution_count": 97,
   "metadata": {},
   "outputs": [
    {
     "data": {
      "text/plain": [
       "<matplotlib.legend.Legend at 0x7fa493015580>"
      ]
     },
     "execution_count": 97,
     "metadata": {},
     "output_type": "execute_result"
    },
    {
     "data": {
      "image/png": "[encoded data removed]",
      "text/plain": [
       "<Figure size 432x288 with 1 Axes>"
      ]
     },
     "metadata": {
      "image/png": {
       "height": 248,
       "width": 368
      },
      "needs_background": "light"
     },
     "output_type": "display_data"
    }
   ],
   "source": [
    "plt.plot(lihue_max['date'], lihue_max['value'], label='Max temps')\n",
    "plt.plot(lihue_min['date'], lihue_min['value'], label='Min temps')\n",
    "plt.legend()"
   ]
  },
  {
   "cell_type": "markdown",
   "metadata": {},
   "source": [
    "The problem with replacing missing values with nan is it prevents descriptive statistics from being run, because operations involving nan values return nan values."
   ]
  },
  {
   "cell_type": "code",
   "execution_count": 98,
   "metadata": {},
   "outputs": [
    {
     "data": {
      "text/plain": [
       "nan"
      ]
     },
     "execution_count": 98,
     "metadata": {},
     "output_type": "execute_result"
    }
   ],
   "source": [
    "lihue_max['value'].mean()"
   ]
  },
  {
   "cell_type": "markdown",
   "metadata": {},
   "source": [
    "A better way is to interpolate with the neighboring values."
   ]
  },
  {
   "cell_type": "code",
   "execution_count": 107,
   "metadata": {},
   "outputs": [
    {
     "data": {
      "image/png": "[encoded data removed]",
      "text/plain": [
       "<Figure size 432x288 with 1 Axes>"
      ]
     },
     "metadata": {
      "image/png": {
       "height": 248,
       "width": 368
      },
      "needs_background": "light"
     },
     "output_type": "display_data"
    }
   ],
   "source": [
    "xs = np.linspace(1, 7)\n",
    "x = np.array([1, 3, 5, 7], 'd')\n",
    "y = np.array([10, 5, 2, 7], 'd')\n",
    "plt.plot(x, y, 'o')\n",
    "plt.grid(True)"
   ]
  },
  {
   "cell_type": "code",
   "execution_count": 108,
   "metadata": {},
   "outputs": [],
   "source": [
    "ys = np.interp(xs, x, y)"
   ]
  },
  {
   "cell_type": "code",
   "execution_count": 109,
   "metadata": {},
   "outputs": [
    {
     "data": {
      "image/png": "[encoded data removed]",
      "text/plain": [
       "<Figure size 432x288 with 1 Axes>"
      ]
     },
     "metadata": {
      "image/png": {
       "height": 248,
       "width": 368
      },
      "needs_background": "light"
     },
     "output_type": "display_data"
    }
   ],
   "source": [
    "plt.plot(x, y, 'o')\n",
    "plt.plot(xs, ys, '.')\n",
    "plt.grid(True)"
   ]
  },
  {
   "cell_type": "code",
   "execution_count": 110,
   "metadata": {},
   "outputs": [],
   "source": [
    "def fillnans(data):\n",
    "    date_float = data['date'].astype(np.float32)\n",
    "    nan = np.isnan(data['value'])\n",
    "    data['value'][nan] = np.interp(date_float[nan], date_float[~nan], data['value'][~nan])"
   ]
  },
  {
   "cell_type": "code",
   "execution_count": 114,
   "metadata": {},
   "outputs": [],
   "source": [
    "fillnans(lihue_max)\n",
    "fillnans(lihue_min)"
   ]
  },
  {
   "cell_type": "code",
   "execution_count": 116,
   "metadata": {},
   "outputs": [
    {
     "data": {
      "text/plain": [
       "27.336849592703746"
      ]
     },
     "execution_count": 116,
     "metadata": {},
     "output_type": "execute_result"
    }
   ],
   "source": [
    "lihue_max['value'].mean()"
   ]
  },
  {
   "cell_type": "code",
   "execution_count": 117,
   "metadata": {},
   "outputs": [
    {
     "data": {
      "text/plain": [
       "21.09143118836965"
      ]
     },
     "execution_count": 117,
     "metadata": {},
     "output_type": "execute_result"
    }
   ],
   "source": [
    "lihue_min['value'].mean()"
   ]
  },
  {
   "cell_type": "code",
   "execution_count": null,
   "metadata": {},
   "outputs": [],
   "source": []
  }
 ],
 "metadata": {
  "kernelspec": {
   "display_name": "pfds",
   "language": "python",
   "name": "pfds"
  },
  "language_info": {
   "codemirror_mode": {
    "name": "ipython",
    "version": 3
   },
   "file_extension": ".py",
   "mimetype": "text/x-python",
   "name": "python",
   "nbconvert_exporter": "python",
   "pygments_lexer": "ipython3",
   "version": "3.8.2"
  }
 },
 "nbformat": 4,
 "nbformat_minor": 4
}
