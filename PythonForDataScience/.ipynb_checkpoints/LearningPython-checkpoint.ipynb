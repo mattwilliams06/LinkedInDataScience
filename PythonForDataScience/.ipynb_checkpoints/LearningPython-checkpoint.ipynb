{
 "cells": [
  {
   "cell_type": "markdown",
   "metadata": {},
   "source": [
    "# Ch 4\n",
    "## Reading and writing files"
   ]
  },
  {
   "cell_type": "code",
   "execution_count": 20,
   "metadata": {},
   "outputs": [],
   "source": [
    "import os\n",
    "path = './Ex_Files_Learning_Python/Exercise Files/Ch4'\n",
    "\n",
    "def main():\n",
    "    filename = 'textfile.txt'\n",
    "    filepath = os.path.join(path, filename)\n",
    "    with open(filepath, 'w+') as f:\n",
    "        for i in range(10):\n",
    "            f.write(f\"This is line {str(i)}\\r\\n\")\n",
    "    if f.closed:\n",
    "        print('File is closed')"
   ]
  },
  {
   "cell_type": "markdown",
   "metadata": {},
   "source": [
    "The code above creates and writes to a file in a different directory than the jupyter notebook's working directory."
   ]
  },
  {
   "cell_type": "code",
   "execution_count": 21,
   "metadata": {},
   "outputs": [
    {
     "name": "stdout",
     "output_type": "stream",
     "text": [
      "File is closed\n"
     ]
    }
   ],
   "source": [
    "main()"
   ]
  },
  {
   "cell_type": "markdown",
   "metadata": {},
   "source": [
    "If we don't want to overwrite what is in the file currently, we pass the \"a\" parameter (append) when we open the file."
   ]
  },
  {
   "cell_type": "code",
   "execution_count": 22,
   "metadata": {},
   "outputs": [],
   "source": [
    "filename = 'textfile.txt'\n",
    "filepath = os.path.join(path, filename)"
   ]
  },
  {
   "cell_type": "code",
   "execution_count": 24,
   "metadata": {},
   "outputs": [
    {
     "data": {
      "text/plain": [
       "'./Ex_Files_Learning_Python/Exercise Files/Ch4/textfile.txt'"
      ]
     },
     "execution_count": 24,
     "metadata": {},
     "output_type": "execute_result"
    }
   ],
   "source": [
    "filepath # checking the filepath"
   ]
  },
  {
   "cell_type": "code",
   "execution_count": 25,
   "metadata": {},
   "outputs": [],
   "source": [
    "with open(filepath, 'a') as f:\n",
    "    for i in range(10, 20):\n",
    "        f.write(f'This is line {str(i)}\\r\\n')\n",
    "    if f.closed:\n",
    "        print('File is closed')"
   ]
  },
  {
   "cell_type": "markdown",
   "metadata": {},
   "source": [
    "Opening the file, we can see that it appended correctly. Let's now read the file."
   ]
  },
  {
   "cell_type": "code",
   "execution_count": 27,
   "metadata": {},
   "outputs": [
    {
     "name": "stdout",
     "output_type": "stream",
     "text": [
      "This is line 0\n",
      "This is line 1\n",
      "This is line 2\n",
      "This is line 3\n",
      "This is line 4\n",
      "This is line 5\n",
      "This is line 6\n",
      "This is line 7\n",
      "This is line 8\n",
      "This is line 9\n",
      "This is line 10\n",
      "This is line 11\n",
      "This is line 12\n",
      "This is line 13\n",
      "This is line 14\n",
      "This is line 15\n",
      "This is line 16\n",
      "This is line 17\n",
      "This is line 18\n",
      "This is line 19\n",
      "\n"
     ]
    }
   ],
   "source": [
    "with open(filepath, 'r') as f:\n",
    "    if f.mode == 'r':\n",
    "        contents = f.read()\n",
    "    print(contents)"
   ]
  },
  {
   "cell_type": "markdown",
   "metadata": {},
   "source": [
    "We can also read the lines one by one using readlines:"
   ]
  },
  {
   "cell_type": "code",
   "execution_count": 28,
   "metadata": {},
   "outputs": [
    {
     "name": "stdout",
     "output_type": "stream",
     "text": [
      "This is line 0\n",
      "\n",
      "This is line 1\n",
      "\n",
      "This is line 2\n",
      "\n",
      "This is line 3\n",
      "\n",
      "This is line 4\n",
      "\n",
      "This is line 5\n",
      "\n",
      "This is line 6\n",
      "\n",
      "This is line 7\n",
      "\n",
      "This is line 8\n",
      "\n",
      "This is line 9\n",
      "\n",
      "This is line 10\n",
      "\n",
      "This is line 11\n",
      "\n",
      "This is line 12\n",
      "\n",
      "This is line 13\n",
      "\n",
      "This is line 14\n",
      "\n",
      "This is line 15\n",
      "\n",
      "This is line 16\n",
      "\n",
      "This is line 17\n",
      "\n",
      "This is line 18\n",
      "\n",
      "This is line 19\n",
      "\n"
     ]
    }
   ],
   "source": [
    "with open(filepath, 'r') as f:\n",
    "    if f.mode == 'r':\n",
    "        lines = f.readlines()\n",
    "        for line in lines:\n",
    "            print(line)"
   ]
  },
  {
   "cell_type": "code",
   "execution_count": 29,
   "metadata": {},
   "outputs": [
    {
     "data": {
      "text/plain": [
       "['This is line 0\\n',\n",
       " 'This is line 1\\n',\n",
       " 'This is line 2\\n',\n",
       " 'This is line 3\\n',\n",
       " 'This is line 4\\n',\n",
       " 'This is line 5\\n',\n",
       " 'This is line 6\\n',\n",
       " 'This is line 7\\n',\n",
       " 'This is line 8\\n',\n",
       " 'This is line 9\\n',\n",
       " 'This is line 10\\n',\n",
       " 'This is line 11\\n',\n",
       " 'This is line 12\\n',\n",
       " 'This is line 13\\n',\n",
       " 'This is line 14\\n',\n",
       " 'This is line 15\\n',\n",
       " 'This is line 16\\n',\n",
       " 'This is line 17\\n',\n",
       " 'This is line 18\\n',\n",
       " 'This is line 19\\n']"
      ]
     },
     "execution_count": 29,
     "metadata": {},
     "output_type": "execute_result"
    }
   ],
   "source": [
    "lines"
   ]
  },
  {
   "cell_type": "markdown",
   "metadata": {},
   "source": [
    "We can see now that 'lines' is a list of all the lines in the file."
   ]
  },
  {
   "cell_type": "markdown",
   "metadata": {},
   "source": [
    "## Working with OS path utilities"
   ]
  },
  {
   "cell_type": "code",
   "execution_count": 30,
   "metadata": {},
   "outputs": [
    {
     "name": "stdout",
     "output_type": "stream",
     "text": [
      "posix\n"
     ]
    }
   ],
   "source": [
    "print(os.name)"
   ]
  },
  {
   "cell_type": "code",
   "execution_count": 32,
   "metadata": {},
   "outputs": [
    {
     "name": "stdout",
     "output_type": "stream",
     "text": [
      "Item exists:  False\n"
     ]
    }
   ],
   "source": [
    "# Check if item exists\n",
    "print('Item exists: ', str(os.path.exists('textfile.txt')))"
   ]
  },
  {
   "cell_type": "code",
   "execution_count": 33,
   "metadata": {},
   "outputs": [
    {
     "name": "stdout",
     "output_type": "stream",
     "text": [
      "Item exists:  True\n"
     ]
    }
   ],
   "source": [
    "# Now, check with the filepath\n",
    "print('Item exists: ', str(os.path.exists(filepath)))"
   ]
  },
  {
   "cell_type": "code",
   "execution_count": 34,
   "metadata": {},
   "outputs": [
    {
     "name": "stdout",
     "output_type": "stream",
     "text": [
      "Item is a file:  True\n"
     ]
    }
   ],
   "source": [
    "print('Item is a file: ', str(os.path.isfile(filepath)))"
   ]
  },
  {
   "cell_type": "code",
   "execution_count": 35,
   "metadata": {},
   "outputs": [
    {
     "name": "stdout",
     "output_type": "stream",
     "text": [
      "Item is a directory:  False\n"
     ]
    }
   ],
   "source": [
    "print('Item is a directory: ', str(os.path.isdir(filepath)))"
   ]
  },
  {
   "cell_type": "markdown",
   "metadata": {},
   "source": [
    "All of these results are as expected. We can also get the filepaths."
   ]
  },
  {
   "cell_type": "code",
   "execution_count": 38,
   "metadata": {},
   "outputs": [
    {
     "name": "stdout",
     "output_type": "stream",
     "text": [
      "Item path:  /Users/mattwilliams/Documents/LinkedInLearning/PythonForDataScience/Ex_Files_Learning_Python/Exercise Files/Ch4/textfile.txt\n"
     ]
    }
   ],
   "source": [
    "print('Item path: ', str(os.path.realpath(filepath)))"
   ]
  },
  {
   "cell_type": "code",
   "execution_count": 39,
   "metadata": {},
   "outputs": [
    {
     "name": "stdout",
     "output_type": "stream",
     "text": [
      "Item path and name:  ('/Users/mattwilliams/Documents/LinkedInLearning/PythonForDataScience/Ex_Files_Learning_Python/Exercise Files/Ch4', 'textfile.txt')\n"
     ]
    }
   ],
   "source": [
    "print('Item path and name: ', str(os.path.split(os.path.realpath(filepath))))"
   ]
  },
  {
   "cell_type": "markdown",
   "metadata": {},
   "source": [
    "Creating the filepath, I used the shortcut './'. Getting the filepath in this way, it could be stored as an object to pass to other functions.\n",
    "\n",
    "Let's see what time the file was last modified."
   ]
  },
  {
   "cell_type": "code",
   "execution_count": 47,
   "metadata": {},
   "outputs": [],
   "source": [
    "import time\n",
    "from datetime import date, time, timedelta\n",
    "import datetime"
   ]
  },
  {
   "cell_type": "code",
   "execution_count": 45,
   "metadata": {},
   "outputs": [],
   "source": [
    "t = time.ctime(os.path.getmtime(filepath))"
   ]
  },
  {
   "cell_type": "code",
   "execution_count": 46,
   "metadata": {},
   "outputs": [
    {
     "name": "stdout",
     "output_type": "stream",
     "text": [
      "Wed Mar 11 19:35:52 2020\n"
     ]
    }
   ],
   "source": [
    "print(t)"
   ]
  },
  {
   "cell_type": "code",
   "execution_count": 49,
   "metadata": {},
   "outputs": [
    {
     "name": "stdout",
     "output_type": "stream",
     "text": [
      "2020-03-11 19:28:28.644802\n"
     ]
    }
   ],
   "source": [
    "print(datetime.datetime.fromtimestamp(os.path.getmtime(path)))"
   ]
  },
  {
   "cell_type": "markdown",
   "metadata": {},
   "source": [
    "# Ch 5\n",
    "## Fetching internet data"
   ]
  },
  {
   "cell_type": "code",
   "execution_count": 52,
   "metadata": {},
   "outputs": [],
   "source": [
    "import urllib.request"
   ]
  },
  {
   "cell_type": "code",
   "execution_count": 61,
   "metadata": {},
   "outputs": [],
   "source": [
    "def main():\n",
    "    webUrl = urllib.request.urlopen('https://www.google.com')\n",
    "    data = webUrl.read()\n",
    "    print('Result code: ', str(webUrl.getcode()))\n",
    "    print(data[:1000])"
   ]
  },
  {
   "cell_type": "code",
   "execution_count": 62,
   "metadata": {},
   "outputs": [
    {
     "name": "stdout",
     "output_type": "stream",
     "text": [
      "Result code:  200\n",
      "b'<!doctype html><html itemscope=\"\" itemtype=\"http://schema.org/WebPage\" lang=\"en\"><head><meta content=\"Search the world\\'s information, including webpages, images, videos and more. Google has many special features to help you find exactly what you\\'re looking for.\" name=\"description\"><meta content=\"noodp\" name=\"robots\"><meta content=\"text/html; charset=UTF-8\" http-equiv=\"Content-Type\"><meta content=\"/images/branding/googleg/1x/googleg_standard_color_128dp.png\" itemprop=\"image\"><title>Google</title><script nonce=\"Pp+4YW0HclMm4Mo3wZXtIA==\">(function(){window.google={kEI:\\'LexqXsaSHJXM-gTYnojgBg\\',kEXPI:\\'0,18167,1335579,5663,731,223,5105,206,3204,10,1051,175,364,975,460,4,60,742,75,167,216,140,106,5,625,373,19,20,91,226,85,420,12,269,6,20,104,5,414669,3785,708391,1197661,122,241,125,41,302772,26305,1294,12383,4855,32691,15248,867,28684,363,8825,8384,1325,3533,1362,4323,4967,3023,2821,1924,3108,7925,1808,4020,978,4788,1,3142,5297,2054,920,873,1217,2975,6431,1141,6290,3874,2883,21,317,1982,1191,'\n"
     ]
    }
   ],
   "source": [
    "main()"
   ]
  },
  {
   "cell_type": "markdown",
   "metadata": {},
   "source": [
    "The result code 200 means that the request was made successfully. We are also reading some data from the open request. The data being printed is the html code from Google's homepage (the first 1000 characters).\n",
    "\n",
    "## Working with JSON data\n",
    "\n",
    "For the next section, we will pull JSON data from the USGS earthquake website from the day, for earthquakes with a magniture of 2.5 or greater."
   ]
  },
  {
   "cell_type": "code",
   "execution_count": 63,
   "metadata": {},
   "outputs": [],
   "source": [
    "import json"
   ]
  },
  {
   "cell_type": "code",
   "execution_count": 68,
   "metadata": {},
   "outputs": [],
   "source": [
    "def usgsjson():\n",
    "    urlData = 'https://earthquake.usgs.gov/earthquakes/feed/v1.0/summary/2.5_day.geojson'\n",
    "    webUrl = urllib.request.urlopen(urlData)\n",
    "    print('result code: ', str(webUrl.getcode()))\n",
    "    if webUrl.getcode() == 200:\n",
    "        data = webUrl.read()\n",
    "        printResults(data)\n",
    "    else:\n",
    "        print('Received error, cannot parse results')"
   ]
  },
  {
   "cell_type": "code",
   "execution_count": 83,
   "metadata": {},
   "outputs": [],
   "source": [
    "def printResults(data):\n",
    "    # load string of JSON data and parse it into a Python object\n",
    "    theJSON = json.loads(data)\n",
    "    if 'title' in theJSON['metadata']:  # prints the title from the metadata section of the USGS JSON file\n",
    "        print(theJSON['metadata']['title'])\n",
    "    count = theJSON['metadata']['count']\n",
    "    print(str(count) + ' events recorded')\n",
    "    # Print the places where earthquakes were recorded\n",
    "    for i in theJSON['features']:\n",
    "        print(i['properties']['place'])\n",
    "    print('--------------\\n')\n",
    "    # print the magnitudes >= 4.0 and where they were recorded\n",
    "    for i in theJSON['features']:\n",
    "        if i['properties']['mag'] >= 4.0:\n",
    "            print(f'{i[\"properties\"][\"mag\"]:2.1f}, {i[\"properties\"][\"place\"]}')\n",
    "    print('--------------\\n')\n",
    "    # print the number or reports of feeling the earthquake\n",
    "    for i in theJSON['features']:\n",
    "        feltReports = i['properties']['felt']\n",
    "        if feltReports != None:\n",
    "            if feltReports > 0:\n",
    "                print(f'{i[\"properties\"][\"mag\"]:2.1f}, {i[\"properties\"][\"place\"]} reported {feltReports} times')"
   ]
  },
  {
   "cell_type": "code",
   "execution_count": 84,
   "metadata": {},
   "outputs": [
    {
     "name": "stdout",
     "output_type": "stream",
     "text": [
      "result code:  200\n",
      "USGS Magnitude 2.5+ Earthquakes, Past Day\n",
      "32 events recorded\n",
      "7km S of Guanica, Puerto Rico\n",
      "86km ENE of Iquique, Chile\n",
      "112km NE of San Pedro de Atacama, Chile\n",
      "88km NW of Fort Yukon, Alaska\n",
      "14km SSE of Guanica, Puerto Rico\n",
      "105km WSW of San Nicolas, Philippines\n",
      "247km SE of Kodiak, Alaska\n",
      "240km SE of Kodiak, Alaska\n",
      "201km SSE of Sarangani, Philippines\n",
      "26km NNW of Nanao, Japan\n",
      "24km S of Guanica, Puerto Rico\n",
      "99km S of Little Sitkin Island, Alaska\n",
      "2km SSW of Tallaboa, Puerto Rico\n",
      "126km ENE of Luring, China\n",
      "17km S of Guanica, Puerto Rico\n",
      "45km WSW of Noatak, Alaska\n",
      "65km NNE of Van Horn, Texas\n",
      "40km WSW of Noatak, Alaska\n",
      "8km SSW of Guanica, Puerto Rico\n",
      "111km SE of Neiafu, Tonga\n",
      "54km SW of Redoubt Volcano, Alaska\n",
      "9km W of Alftanes, Iceland\n",
      "33km NE of Road Town, British Virgin Islands\n",
      "58km NW of Kandrian, Papua New Guinea\n",
      "99km S of Wonosari, Indonesia\n",
      "Southern Mid-Atlantic Ridge\n",
      "11km SSE of Indios, Puerto Rico\n",
      "10km NW of Herington, Kansas\n",
      "41km SE of Vilyuchinsk, Russia\n",
      "1km NE of La Parguera, Puerto Rico\n",
      "13km NE of Marion, Kansas\n",
      "1km E of Guayanilla, Puerto Rico\n",
      "--------------\n",
      "\n",
      "5.2, 86km ENE of Iquique, Chile\n",
      "4.5, 112km NE of San Pedro de Atacama, Chile\n",
      "5.2, 105km WSW of San Nicolas, Philippines\n",
      "4.5, 201km SSE of Sarangani, Philippines\n",
      "5.3, 26km NNW of Nanao, Japan\n",
      "4.3, 99km S of Little Sitkin Island, Alaska\n",
      "5.0, 126km ENE of Luring, China\n",
      "5.3, 111km SE of Neiafu, Tonga\n",
      "4.6, 9km W of Alftanes, Iceland\n",
      "4.5, 58km NW of Kandrian, Papua New Guinea\n",
      "5.1, 99km S of Wonosari, Indonesia\n",
      "4.9, Southern Mid-Atlantic Ridge\n",
      "4.8, 41km SE of Vilyuchinsk, Russia\n",
      "--------------\n",
      "\n",
      "2.5, 7km S of Guanica, Puerto Rico reported 1 times\n",
      "5.2, 86km ENE of Iquique, Chile reported 28 times\n",
      "2.6, 14km SSE of Guanica, Puerto Rico reported 1 times\n",
      "5.3, 26km NNW of Nanao, Japan reported 25 times\n",
      "2.9, 2km SSW of Tallaboa, Puerto Rico reported 1 times\n",
      "4.6, 9km W of Alftanes, Iceland reported 5 times\n",
      "3.4, 33km NE of Road Town, British Virgin Islands reported 1 times\n",
      "5.1, 99km S of Wonosari, Indonesia reported 1 times\n",
      "2.7, 11km SSE of Indios, Puerto Rico reported 3 times\n",
      "3.5, 10km NW of Herington, Kansas reported 42 times\n",
      "3.0, 1km NE of La Parguera, Puerto Rico reported 9 times\n"
     ]
    }
   ],
   "source": [
    "usgsjson()"
   ]
  },
  {
   "cell_type": "markdown",
   "metadata": {},
   "source": [
    "## Parsing and processing HTML"
   ]
  },
  {
   "cell_type": "code",
   "execution_count": 85,
   "metadata": {},
   "outputs": [],
   "source": [
    "from html.parser import HTMLParser"
   ]
  },
  {
   "cell_type": "code",
   "execution_count": 96,
   "metadata": {},
   "outputs": [],
   "source": [
    "metacount = 0\n",
    "\n",
    "class MyHTMLParser(HTMLParser):\n",
    "    \n",
    "#     def __init__(self):\n",
    "#         self.metacount = 0\n",
    "        \n",
    "    def handle_comment(self, data):\n",
    "        print('Encountered comment: ', data)\n",
    "        pos = self.getpos()\n",
    "        print(f'\\tAt line {pos[0]}, position {pos[1]}')\n",
    "    \n",
    "    def handle_starttag(self, tag, attrs):\n",
    "        global metacount\n",
    "        if tag == 'meta':\n",
    "            metacount += 1\n",
    "        print('Encountered tag: ', tag)\n",
    "        pos = self.getpos()\n",
    "        print(f'\\tAt line {pos[0]}, position {pos[1]}')\n",
    "        \n",
    "        if attrs.__len__() > 0:\n",
    "            print('\\tAttributes: ')\n",
    "            for a in attrs:\n",
    "                print(f'\\t{a[0]} = {a[1]}')\n",
    "        \n",
    "    def handle_endtag(self, tag):\n",
    "        print('Encountered tag: ', tag)\n",
    "        pos = self.getpos()\n",
    "        print(f'\\tAt line {pos[0]}, position {pos[1]}')\n",
    "        \n",
    "    def handle_data(self, data):\n",
    "        if data.isspace():\n",
    "            return\n",
    "        print('Encountered data: ', data)\n",
    "        pos = self.getpos()\n",
    "        print(f'\\tAt line {pos[0]}, position {pos[1]}')"
   ]
  },
  {
   "cell_type": "code",
   "execution_count": 94,
   "metadata": {},
   "outputs": [],
   "source": [
    "def htmlparse():\n",
    "    filepath = os.path.join(path, file)\n",
    "    parser = MyHTMLParser()\n",
    "    # webUrl = urllib.request.urlopen('https://www.google.com')\n",
    "    with open(filepath, 'r') as f:\n",
    "        if f.mode == 'r':\n",
    "            contents = f.read()\n",
    "            parser.feed(contents)"
   ]
  },
  {
   "cell_type": "code",
   "execution_count": 90,
   "metadata": {},
   "outputs": [],
   "source": [
    "path = './Ex_Files_Learning_Python/Exercise Files/Ch5'\n",
    "file = 'samplehtml.html'"
   ]
  },
  {
   "cell_type": "code",
   "execution_count": 97,
   "metadata": {},
   "outputs": [
    {
     "name": "stdout",
     "output_type": "stream",
     "text": [
      "Encountered tag:  html\n",
      "\tAt line 2, position 0\n",
      "\tAttributes: \n",
      "\tlang = en\n",
      "Encountered tag:  head\n",
      "\tAt line 3, position 2\n",
      "Encountered tag:  meta\n",
      "\tAt line 4, position 4\n",
      "\tAttributes: \n",
      "\tcharset = utf-8\n",
      "Encountered tag:  meta\n",
      "\tAt line 4, position 4\n",
      "Encountered tag:  title\n",
      "\tAt line 5, position 4\n",
      "Encountered data:  Sample HTML Document\n",
      "\tAt line 5, position 11\n",
      "Encountered tag:  title\n",
      "\tAt line 5, position 31\n",
      "Encountered tag:  meta\n",
      "\tAt line 6, position 4\n",
      "\tAttributes: \n",
      "\tname = description\n",
      "\tcontent = This is a sample HTML file\n",
      "Encountered tag:  meta\n",
      "\tAt line 6, position 4\n",
      "Encountered tag:  meta\n",
      "\tAt line 7, position 4\n",
      "\tAttributes: \n",
      "\tname = author\n",
      "\tcontent = Administrator\n",
      "Encountered tag:  meta\n",
      "\tAt line 7, position 4\n",
      "Encountered tag:  meta\n",
      "\tAt line 8, position 4\n",
      "\tAttributes: \n",
      "\tname = viewport\n",
      "\tcontent = width=device-width; initial-scale=1.0\n",
      "Encountered tag:  meta\n",
      "\tAt line 8, position 4\n",
      "Encountered comment:   Replace favicon.ico & apple-touch-icon.png in the root of your domain and delete these references \n",
      "\tAt line 9, position 4\n",
      "Encountered tag:  link\n",
      "\tAt line 10, position 4\n",
      "\tAttributes: \n",
      "\trel = shortcut icon\n",
      "\thref = /favicon.ico\n",
      "Encountered tag:  link\n",
      "\tAt line 10, position 4\n",
      "Encountered tag:  link\n",
      "\tAt line 11, position 4\n",
      "\tAttributes: \n",
      "\trel = apple-touch-icon\n",
      "\thref = /apple-touch-icon.png\n",
      "Encountered tag:  link\n",
      "\tAt line 11, position 4\n",
      "Encountered tag:  head\n",
      "\tAt line 12, position 2\n",
      "Encountered tag:  body\n",
      "\tAt line 14, position 2\n",
      "Encountered tag:  div\n",
      "\tAt line 15, position 4\n",
      "Encountered tag:  header\n",
      "\tAt line 16, position 6\n",
      "Encountered tag:  h1\n",
      "\tAt line 17, position 8\n",
      "Encountered data:  HTML Sample File\n",
      "\tAt line 17, position 12\n",
      "Encountered tag:  h1\n",
      "\tAt line 17, position 28\n",
      "Encountered tag:  header\n",
      "\tAt line 18, position 6\n",
      "Encountered tag:  nav\n",
      "\tAt line 19, position 6\n",
      "Encountered tag:  p\n",
      "\tAt line 20, position 8\n",
      "Encountered tag:  a\n",
      "\tAt line 21, position 10\n",
      "\tAttributes: \n",
      "\thref = /\n",
      "Encountered data:  Home\n",
      "\tAt line 21, position 22\n",
      "Encountered tag:  a\n",
      "\tAt line 21, position 26\n",
      "Encountered tag:  p\n",
      "\tAt line 22, position 8\n",
      "Encountered tag:  p\n",
      "\tAt line 23, position 8\n",
      "Encountered tag:  a\n",
      "\tAt line 24, position 10\n",
      "\tAttributes: \n",
      "\thref = /contact\n",
      "Encountered data:  Contact\n",
      "\tAt line 24, position 29\n",
      "Encountered tag:  a\n",
      "\tAt line 24, position 36\n",
      "Encountered tag:  p\n",
      "\tAt line 25, position 8\n",
      "Encountered tag:  nav\n",
      "\tAt line 26, position 6\n",
      "Encountered tag:  div\n",
      "\tAt line 27, position 6\n",
      "Encountered tag:  div\n",
      "\tAt line 29, position 6\n",
      "Encountered tag:  footer\n",
      "\tAt line 30, position 6\n",
      "Encountered tag:  p\n",
      "\tAt line 31, position 8\n",
      "Encountered data:  © Copyright by Administrator\n",
      "\tAt line 31, position 11\n",
      "Encountered tag:  p\n",
      "\tAt line 31, position 44\n",
      "Encountered tag:  footer\n",
      "\tAt line 32, position 6\n",
      "Encountered tag:  div\n",
      "\tAt line 33, position 4\n",
      "Encountered tag:  body\n",
      "\tAt line 34, position 2\n",
      "Encountered tag:  html\n",
      "\tAt line 35, position 0\n"
     ]
    }
   ],
   "source": [
    "htmlparse()"
   ]
  },
  {
   "cell_type": "code",
   "execution_count": null,
   "metadata": {},
   "outputs": [],
   "source": []
  }
 ],
 "metadata": {
  "kernelspec": {
   "display_name": "pfds",
   "language": "python",
   "name": "pfds"
  },
  "language_info": {
   "codemirror_mode": {
    "name": "ipython",
    "version": 3
   },
   "file_extension": ".py",
   "mimetype": "text/x-python",
   "name": "python",
   "nbconvert_exporter": "python",
   "pygments_lexer": "ipython3",
   "version": "3.8.2"
  }
 },
 "nbformat": 4,
 "nbformat_minor": 4
}
