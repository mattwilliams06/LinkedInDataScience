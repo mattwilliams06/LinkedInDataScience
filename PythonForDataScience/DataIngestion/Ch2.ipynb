{
 "cells": [
  {
   "cell_type": "markdown",
   "metadata": {},
   "source": [
    "# Ch2\n",
    "\n",
    "## CSV\n",
    "\n",
    "CSV files are text, and can be loaded manually, as shown below, into dictionaries, or Pandas can be used."
   ]
  },
  {
   "cell_type": "code",
   "execution_count": 21,
   "metadata": {},
   "outputs": [],
   "source": [
    "import bz2\n",
    "import csv\n",
    "from collections import namedtuple\n",
    "from datetime import datetime\n",
    "import os\n",
    "import pandas as pd"
   ]
  },
  {
   "cell_type": "code",
   "execution_count": 2,
   "metadata": {},
   "outputs": [],
   "source": [
    "Column = namedtuple('Column', 'src dest convert')"
   ]
  },
  {
   "cell_type": "code",
   "execution_count": 4,
   "metadata": {},
   "outputs": [],
   "source": [
    "def parse_timestamp(text):\n",
    "    return datetime.strptime(text, '%Y-%m-%d %H:%M:%S')"
   ]
  },
  {
   "cell_type": "code",
   "execution_count": 5,
   "metadata": {},
   "outputs": [],
   "source": [
    "columns = [\n",
    "    Column('VendorID', 'vendor_id', int),\n",
    "    Column('passenger_count', 'num_passengers', int),\n",
    "    Column('tip_amount', 'tip', float),\n",
    "    Column('total_amount', 'price', float),\n",
    "    Column('tpep_dropoff_datetime', 'dropoff_time', parse_timestamp),\n",
    "    Column('tpep_pickup_datetime', 'pickup_time', parse_timestamp),\n",
    "    Column('trip_distance', 'distance', float),\n",
    "]"
   ]
  },
  {
   "cell_type": "code",
   "execution_count": 10,
   "metadata": {},
   "outputs": [],
   "source": [
    "def iter_records(file_name):\n",
    "    with bz2.open(file_name, 'rt') as fp:\n",
    "        reader = csv.DictReader(fp)\n",
    "        for csv_record in reader:\n",
    "            record = {}\n",
    "            for col in columns:\n",
    "                value = csv_record[col.src]\n",
    "                record[col.dest] = col.convert(value)\n",
    "            yield record\n",
    "\n",
    "\n",
    "def example():\n",
    "    from pprint import pprint\n",
    "    filepath = os.path.join(path, file)\n",
    "    for i, record in enumerate(iter_records(filepath)):\n",
    "        if i >= 10:\n",
    "            break\n",
    "        pprint(record)"
   ]
  },
  {
   "cell_type": "code",
   "execution_count": 19,
   "metadata": {},
   "outputs": [
    {
     "name": "stdout",
     "output_type": "stream",
     "text": [
      "{'distance': 2.57,\n",
      " 'dropoff_time': datetime.datetime(2018, 11, 1, 6, 43, 24),\n",
      " 'num_passengers': 1,\n",
      " 'pickup_time': datetime.datetime(2018, 10, 31, 7, 10, 55),\n",
      " 'price': 20.54,\n",
      " 'tip': 4.74,\n",
      " 'vendor_id': 2}\n",
      "{'distance': 3.58,\n",
      " 'dropoff_time': datetime.datetime(2018, 10, 31, 16, 50, 10),\n",
      " 'num_passengers': 5,\n",
      " 'pickup_time': datetime.datetime(2018, 10, 31, 16, 38, 25),\n",
      " 'price': 13.8,\n",
      " 'tip': 0.0,\n",
      " 'vendor_id': 2}\n",
      "{'distance': 2.39,\n",
      " 'dropoff_time': datetime.datetime(2018, 10, 31, 20, 31, 47),\n",
      " 'num_passengers': 1,\n",
      " 'pickup_time': datetime.datetime(2018, 10, 31, 20, 23, 41),\n",
      " 'price': 11.3,\n",
      " 'tip': 1.0,\n",
      " 'vendor_id': 2}\n",
      "{'distance': 0.5,\n",
      " 'dropoff_time': datetime.datetime(2018, 10, 31, 22, 48, 28),\n",
      " 'num_passengers': 1,\n",
      " 'pickup_time': datetime.datetime(2018, 10, 31, 22, 44, 24),\n",
      " 'price': 5.8,\n",
      " 'tip': 0.0,\n",
      " 'vendor_id': 2}\n",
      "{'distance': 1.81,\n",
      " 'dropoff_time': datetime.datetime(2018, 10, 31, 23, 35, 30),\n",
      " 'num_passengers': 1,\n",
      " 'pickup_time': datetime.datetime(2018, 10, 31, 23, 22, 18),\n",
      " 'price': 13.56,\n",
      " 'tip': 2.26,\n",
      " 'vendor_id': 2}\n",
      "{'distance': 7.91,\n",
      " 'dropoff_time': datetime.datetime(2018, 10, 31, 23, 44, 33),\n",
      " 'num_passengers': 1,\n",
      " 'pickup_time': datetime.datetime(2018, 10, 31, 23, 27, 39),\n",
      " 'price': 24.3,\n",
      " 'tip': 0.0,\n",
      " 'vendor_id': 2}\n",
      "{'distance': 2.24,\n",
      " 'dropoff_time': datetime.datetime(2018, 10, 31, 23, 46, 52),\n",
      " 'num_passengers': 1,\n",
      " 'pickup_time': datetime.datetime(2018, 10, 31, 23, 40, 55),\n",
      " 'price': 11.62,\n",
      " 'tip': 2.32,\n",
      " 'vendor_id': 2}\n",
      "{'distance': 2.31,\n",
      " 'dropoff_time': datetime.datetime(2018, 10, 31, 23, 56, 44),\n",
      " 'num_passengers': 1,\n",
      " 'pickup_time': datetime.datetime(2018, 10, 31, 23, 45, 53),\n",
      " 'price': 11.3,\n",
      " 'tip': 0.0,\n",
      " 'vendor_id': 2}\n",
      "{'distance': 0.68,\n",
      " 'dropoff_time': datetime.datetime(2018, 10, 31, 23, 52, 54),\n",
      " 'num_passengers': 1,\n",
      " 'pickup_time': datetime.datetime(2018, 10, 31, 23, 46, 42),\n",
      " 'price': 6.8,\n",
      " 'tip': 0.0,\n",
      " 'vendor_id': 2}\n",
      "{'distance': 1.65,\n",
      " 'dropoff_time': datetime.datetime(2018, 11, 1, 0, 10, 33),\n",
      " 'num_passengers': 1,\n",
      " 'pickup_time': datetime.datetime(2018, 10, 31, 23, 47, 30),\n",
      " 'price': 17.8,\n",
      " 'tip': 2.0,\n",
      " 'vendor_id': 2}\n"
     ]
    }
   ],
   "source": [
    "example()"
   ]
  },
  {
   "cell_type": "code",
   "execution_count": 18,
   "metadata": {},
   "outputs": [],
   "source": [
    "path = './Ex_Files_Data_Ingestion_Python/Exercise Files/Ch02/02_01'\n",
    "file = 'taxi.csv.bz2'"
   ]
  },
  {
   "cell_type": "code",
   "execution_count": 22,
   "metadata": {},
   "outputs": [],
   "source": [
    "df = pd.read_csv(os.path.join(path, file))"
   ]
  },
  {
   "cell_type": "code",
   "execution_count": 24,
   "metadata": {},
   "outputs": [
    {
     "data": {
      "text/plain": [
       "VendorID                   int64\n",
       "tpep_pickup_datetime      object\n",
       "tpep_dropoff_datetime     object\n",
       "passenger_count            int64\n",
       "trip_distance            float64\n",
       "RatecodeID                 int64\n",
       "store_and_fwd_flag        object\n",
       "PULocationID               int64\n",
       "DOLocationID               int64\n",
       "payment_type               int64\n",
       "fare_amount              float64\n",
       "extra                    float64\n",
       "mta_tax                  float64\n",
       "tip_amount               float64\n",
       "tolls_amount             float64\n",
       "improvement_surcharge    float64\n",
       "total_amount             float64\n",
       "dtype: object"
      ]
     },
     "execution_count": 24,
     "metadata": {},
     "output_type": "execute_result"
    }
   ],
   "source": [
    "df.dtypes"
   ]
  },
  {
   "cell_type": "code",
   "execution_count": 25,
   "metadata": {},
   "outputs": [
    {
     "data": {
      "text/html": [
       "<div>\n",
       "<style scoped>\n",
       "    .dataframe tbody tr th:only-of-type {\n",
       "        vertical-align: middle;\n",
       "    }\n",
       "\n",
       "    .dataframe tbody tr th {\n",
       "        vertical-align: top;\n",
       "    }\n",
       "\n",
       "    .dataframe thead th {\n",
       "        text-align: right;\n",
       "    }\n",
       "</style>\n",
       "<table border=\"1\" class=\"dataframe\">\n",
       "  <thead>\n",
       "    <tr style=\"text-align: right;\">\n",
       "      <th></th>\n",
       "      <th>VendorID</th>\n",
       "      <th>tpep_pickup_datetime</th>\n",
       "      <th>tpep_dropoff_datetime</th>\n",
       "      <th>passenger_count</th>\n",
       "      <th>trip_distance</th>\n",
       "      <th>RatecodeID</th>\n",
       "      <th>store_and_fwd_flag</th>\n",
       "      <th>PULocationID</th>\n",
       "      <th>DOLocationID</th>\n",
       "      <th>payment_type</th>\n",
       "      <th>fare_amount</th>\n",
       "      <th>extra</th>\n",
       "      <th>mta_tax</th>\n",
       "      <th>tip_amount</th>\n",
       "      <th>tolls_amount</th>\n",
       "      <th>improvement_surcharge</th>\n",
       "      <th>total_amount</th>\n",
       "    </tr>\n",
       "  </thead>\n",
       "  <tbody>\n",
       "    <tr>\n",
       "      <th>0</th>\n",
       "      <td>2</td>\n",
       "      <td>2018-10-31 07:10:55</td>\n",
       "      <td>2018-11-01 06:43:24</td>\n",
       "      <td>1</td>\n",
       "      <td>2.57</td>\n",
       "      <td>1</td>\n",
       "      <td>N</td>\n",
       "      <td>211</td>\n",
       "      <td>48</td>\n",
       "      <td>1</td>\n",
       "      <td>14.5</td>\n",
       "      <td>0.5</td>\n",
       "      <td>0.5</td>\n",
       "      <td>4.74</td>\n",
       "      <td>0.0</td>\n",
       "      <td>0.3</td>\n",
       "      <td>20.54</td>\n",
       "    </tr>\n",
       "    <tr>\n",
       "      <th>1</th>\n",
       "      <td>2</td>\n",
       "      <td>2018-10-31 16:38:25</td>\n",
       "      <td>2018-10-31 16:50:10</td>\n",
       "      <td>5</td>\n",
       "      <td>3.58</td>\n",
       "      <td>1</td>\n",
       "      <td>N</td>\n",
       "      <td>237</td>\n",
       "      <td>144</td>\n",
       "      <td>2</td>\n",
       "      <td>12.5</td>\n",
       "      <td>0.5</td>\n",
       "      <td>0.5</td>\n",
       "      <td>0.00</td>\n",
       "      <td>0.0</td>\n",
       "      <td>0.3</td>\n",
       "      <td>13.80</td>\n",
       "    </tr>\n",
       "    <tr>\n",
       "      <th>2</th>\n",
       "      <td>2</td>\n",
       "      <td>2018-10-31 20:23:41</td>\n",
       "      <td>2018-10-31 20:31:47</td>\n",
       "      <td>1</td>\n",
       "      <td>2.39</td>\n",
       "      <td>1</td>\n",
       "      <td>N</td>\n",
       "      <td>163</td>\n",
       "      <td>107</td>\n",
       "      <td>1</td>\n",
       "      <td>9.0</td>\n",
       "      <td>0.5</td>\n",
       "      <td>0.5</td>\n",
       "      <td>1.00</td>\n",
       "      <td>0.0</td>\n",
       "      <td>0.3</td>\n",
       "      <td>11.30</td>\n",
       "    </tr>\n",
       "    <tr>\n",
       "      <th>3</th>\n",
       "      <td>2</td>\n",
       "      <td>2018-10-31 22:44:24</td>\n",
       "      <td>2018-10-31 22:48:28</td>\n",
       "      <td>1</td>\n",
       "      <td>0.50</td>\n",
       "      <td>1</td>\n",
       "      <td>N</td>\n",
       "      <td>246</td>\n",
       "      <td>246</td>\n",
       "      <td>2</td>\n",
       "      <td>4.5</td>\n",
       "      <td>0.5</td>\n",
       "      <td>0.5</td>\n",
       "      <td>0.00</td>\n",
       "      <td>0.0</td>\n",
       "      <td>0.3</td>\n",
       "      <td>5.80</td>\n",
       "    </tr>\n",
       "    <tr>\n",
       "      <th>4</th>\n",
       "      <td>2</td>\n",
       "      <td>2018-10-31 23:22:18</td>\n",
       "      <td>2018-10-31 23:35:30</td>\n",
       "      <td>1</td>\n",
       "      <td>1.81</td>\n",
       "      <td>1</td>\n",
       "      <td>N</td>\n",
       "      <td>79</td>\n",
       "      <td>90</td>\n",
       "      <td>1</td>\n",
       "      <td>10.0</td>\n",
       "      <td>0.5</td>\n",
       "      <td>0.5</td>\n",
       "      <td>2.26</td>\n",
       "      <td>0.0</td>\n",
       "      <td>0.3</td>\n",
       "      <td>13.56</td>\n",
       "    </tr>\n",
       "  </tbody>\n",
       "</table>\n",
       "</div>"
      ],
      "text/plain": [
       "   VendorID tpep_pickup_datetime tpep_dropoff_datetime  passenger_count  \\\n",
       "0         2  2018-10-31 07:10:55   2018-11-01 06:43:24                1   \n",
       "1         2  2018-10-31 16:38:25   2018-10-31 16:50:10                5   \n",
       "2         2  2018-10-31 20:23:41   2018-10-31 20:31:47                1   \n",
       "3         2  2018-10-31 22:44:24   2018-10-31 22:48:28                1   \n",
       "4         2  2018-10-31 23:22:18   2018-10-31 23:35:30                1   \n",
       "\n",
       "   trip_distance  RatecodeID store_and_fwd_flag  PULocationID  DOLocationID  \\\n",
       "0           2.57           1                  N           211            48   \n",
       "1           3.58           1                  N           237           144   \n",
       "2           2.39           1                  N           163           107   \n",
       "3           0.50           1                  N           246           246   \n",
       "4           1.81           1                  N            79            90   \n",
       "\n",
       "   payment_type  fare_amount  extra  mta_tax  tip_amount  tolls_amount  \\\n",
       "0             1         14.5    0.5      0.5        4.74           0.0   \n",
       "1             2         12.5    0.5      0.5        0.00           0.0   \n",
       "2             1          9.0    0.5      0.5        1.00           0.0   \n",
       "3             2          4.5    0.5      0.5        0.00           0.0   \n",
       "4             1         10.0    0.5      0.5        2.26           0.0   \n",
       "\n",
       "   improvement_surcharge  total_amount  \n",
       "0                    0.3         20.54  \n",
       "1                    0.3         13.80  \n",
       "2                    0.3         11.30  \n",
       "3                    0.3          5.80  \n",
       "4                    0.3         13.56  "
      ]
     },
     "execution_count": 25,
     "metadata": {},
     "output_type": "execute_result"
    }
   ],
   "source": [
    "df.head()"
   ]
  },
  {
   "cell_type": "markdown",
   "metadata": {},
   "source": [
    "We can see that Pandas has stored the pickup_datetime and dropoff_datetime columns as objects. We need to tell Pandas that we want datetimes there."
   ]
  },
  {
   "cell_type": "code",
   "execution_count": 26,
   "metadata": {},
   "outputs": [],
   "source": [
    "time_cols = ['tpep_pickup_datetime', 'tpep_dropoff_datetime']"
   ]
  },
  {
   "cell_type": "code",
   "execution_count": 27,
   "metadata": {},
   "outputs": [],
   "source": [
    "df = pd.read_csv(os.path.join(path, file), parse_dates=time_cols)"
   ]
  },
  {
   "cell_type": "code",
   "execution_count": 28,
   "metadata": {},
   "outputs": [
    {
     "data": {
      "text/plain": [
       "VendorID                          int64\n",
       "tpep_pickup_datetime     datetime64[ns]\n",
       "tpep_dropoff_datetime    datetime64[ns]\n",
       "passenger_count                   int64\n",
       "trip_distance                   float64\n",
       "RatecodeID                        int64\n",
       "store_and_fwd_flag               object\n",
       "PULocationID                      int64\n",
       "DOLocationID                      int64\n",
       "payment_type                      int64\n",
       "fare_amount                     float64\n",
       "extra                           float64\n",
       "mta_tax                         float64\n",
       "tip_amount                      float64\n",
       "tolls_amount                    float64\n",
       "improvement_surcharge           float64\n",
       "total_amount                    float64\n",
       "dtype: object"
      ]
     },
     "execution_count": 28,
     "metadata": {},
     "output_type": "execute_result"
    }
   ],
   "source": [
    "df.dtypes"
   ]
  },
  {
   "cell_type": "markdown",
   "metadata": {},
   "source": [
    "By default, Pandas loads the entire dataset into memory. To prevent this, we can use the chunksize argument."
   ]
  },
  {
   "cell_type": "code",
   "execution_count": 29,
   "metadata": {},
   "outputs": [],
   "source": [
    "df = pd.read_csv(os.path.join(path, file), parse_dates=time_cols, chunksize=1000)"
   ]
  },
  {
   "cell_type": "code",
   "execution_count": 30,
   "metadata": {},
   "outputs": [
    {
     "data": {
      "text/plain": [
       "<pandas.io.parsers.TextFileReader at 0x11c1d4130>"
      ]
     },
     "execution_count": 30,
     "metadata": {},
     "output_type": "execute_result"
    }
   ],
   "source": [
    "df"
   ]
  },
  {
   "cell_type": "markdown",
   "metadata": {},
   "source": [
    "Now we can see that df is a text file reader. We can iterate over it to get the data."
   ]
  },
  {
   "cell_type": "code",
   "execution_count": 31,
   "metadata": {},
   "outputs": [
    {
     "name": "stdout",
     "output_type": "stream",
     "text": [
      "1000\n",
      "1000\n",
      "1000\n",
      "1000\n",
      "1000\n",
      "1000\n",
      "1000\n",
      "1000\n",
      "1000\n",
      "1000\n"
     ]
    }
   ],
   "source": [
    "for sub_df in df:\n",
    "    print(len(sub_df))"
   ]
  },
  {
   "cell_type": "markdown",
   "metadata": {},
   "source": [
    "## XML\n",
    "\n",
    "XML, like CSV, is also text, and must be loaded manually."
   ]
  },
  {
   "cell_type": "code",
   "execution_count": 32,
   "metadata": {},
   "outputs": [],
   "source": [
    "import bz2\n",
    "import xml.etree.ElementTree as xml\n",
    "\n",
    "import pandas as pd\n",
    "\n",
    "# Data conversions\n",
    "conversion = [\n",
    "    ('vendor', int),\n",
    "    ('people', int),\n",
    "    ('tip', float),\n",
    "    ('price', float),\n",
    "    ('pickup', pd.to_datetime),\n",
    "    ('dropoff', pd.to_datetime),\n",
    "    ('distance', float),\n",
    "]\n",
    "\n",
    "\n",
    "def iter_rides(file_name):\n",
    "    with bz2.open(file_name, 'rt') as fp:\n",
    "        tree = xml.parse(fp)\n",
    "\n",
    "    rides = tree.getroot()\n",
    "    for elem in rides:\n",
    "        record = {}\n",
    "        for tag, func in conversion:\n",
    "            text = elem.find(tag).text\n",
    "            record[tag] = func(text)\n",
    "        yield record\n",
    "\n",
    "\n",
    "def load_xml(file_name):\n",
    "    records = iter_rides(file_name)\n",
    "    return pd.DataFrame.from_records(records)"
   ]
  },
  {
   "cell_type": "code",
   "execution_count": 34,
   "metadata": {},
   "outputs": [
    {
     "name": "stdout",
     "output_type": "stream",
     "text": [
      "vendor               int64\n",
      "people               int64\n",
      "tip                float64\n",
      "price              float64\n",
      "pickup      datetime64[ns]\n",
      "dropoff     datetime64[ns]\n",
      "distance           float64\n",
      "dtype: object\n",
      "   vendor  people   tip  price              pickup             dropoff  \\\n",
      "0       2       1  4.74  20.54 2018-10-31 07:10:55 2018-11-01 06:43:24   \n",
      "1       2       5  0.00  13.80 2018-10-31 16:38:25 2018-10-31 16:50:10   \n",
      "2       2       1  1.00  11.30 2018-10-31 20:23:41 2018-10-31 20:31:47   \n",
      "3       2       1  0.00   5.80 2018-10-31 22:44:24 2018-10-31 22:48:28   \n",
      "4       2       1  2.26  13.56 2018-10-31 23:22:18 2018-10-31 23:35:30   \n",
      "\n",
      "   distance  \n",
      "0      2.57  \n",
      "1      3.58  \n",
      "2      2.39  \n",
      "3      0.50  \n",
      "4      1.81  \n"
     ]
    }
   ],
   "source": [
    "path = './Ex_Files_Data_Ingestion_Python/Exercise Files/Ch02/02_02'\n",
    "file = 'taxi.xml.bz2'\n",
    "df = load_xml(os.path.join(path, file))\n",
    "print(df.dtypes)\n",
    "print(df.head())"
   ]
  },
  {
   "cell_type": "markdown",
   "metadata": {},
   "source": [
    "## JSON\n",
    "\n",
    "Below is code to read the JSON file in section 02_05. First, it has to parse the date and time string into a datetime object."
   ]
  },
  {
   "cell_type": "code",
   "execution_count": 35,
   "metadata": {},
   "outputs": [],
   "source": [
    "path = './Ex_Files_Data_Ingestion_Python/Exercise Files/Ch02/02_05'\n",
    "file = 'taxi.jl'"
   ]
  },
  {
   "cell_type": "code",
   "execution_count": 36,
   "metadata": {},
   "outputs": [
    {
     "name": "stdout",
     "output_type": "stream",
     "text": [
      "average ride duration: 0:17:28.555600\n"
     ]
    }
   ],
   "source": [
    "import json\n",
    "from datetime import datetime, timedelta\n",
    "\n",
    "\n",
    "def parse_time(ts):\n",
    "    \"\"\"\n",
    "    >>> parse_time('2018-10-31T07:10:55.000Z')\n",
    "    datetime.datetime(2018, 10, 31, 7, 10, 55)\n",
    "    \"\"\"\n",
    "    # [:-1] trims Z suffix\n",
    "    return datetime.fromisoformat(ts[:-1])\n",
    "\n",
    "\n",
    "def fix_pair(pair):\n",
    "    key, value = pair\n",
    "    if key not in ('pickup', 'dropoff'):\n",
    "        return pair\n",
    "    return key, parse_time(value)\n",
    "\n",
    "\n",
    "def pairs_hook(pairs):\n",
    "    return dict(fix_pair(pair) for pair in pairs)\n",
    "\n",
    "\n",
    "durations = []\n",
    "with open(os.path.join(path, file)) as fp:\n",
    "    for line in fp:\n",
    "        obj = json.loads(line, object_pairs_hook=pairs_hook)\n",
    "        duration = obj['dropoff'] - obj['pickup']\n",
    "        durations.append(duration)\n",
    "\n",
    "avg_duration = sum(durations, timedelta()) / len(durations)\n",
    "print(f'average ride duration: {avg_duration}')"
   ]
  },
  {
   "cell_type": "code",
   "execution_count": null,
   "metadata": {},
   "outputs": [],
   "source": []
  }
 ],
 "metadata": {
  "kernelspec": {
   "display_name": "Python 3",
   "language": "python",
   "name": "python3"
  },
  "language_info": {
   "codemirror_mode": {
    "name": "ipython",
    "version": 3
   },
   "file_extension": ".py",
   "mimetype": "text/x-python",
   "name": "python",
   "nbconvert_exporter": "python",
   "pygments_lexer": "ipython3",
   "version": "3.8.2"
  }
 },
 "nbformat": 4,
 "nbformat_minor": 4
}
