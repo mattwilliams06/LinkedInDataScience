{
 "cells": [
  {
   "cell_type": "code",
   "execution_count": 1,
   "metadata": {},
   "outputs": [],
   "source": [
    "from os import path\n",
    "import bz2\n",
    "import pandas as pd"
   ]
  },
  {
   "cell_type": "code",
   "execution_count": 2,
   "metadata": {},
   "outputs": [],
   "source": [
    "address = './Exercise Files/Ch07/07_01/taxi.csv.bz2'"
   ]
  },
  {
   "cell_type": "code",
   "execution_count": 12,
   "metadata": {},
   "outputs": [
    {
     "data": {
      "text/plain": [
       "2.7408742904663086"
      ]
     },
     "execution_count": 12,
     "metadata": {},
     "output_type": "execute_result"
    }
   ],
   "source": [
    "path.getsize(address) / (1<<20)"
   ]
  },
  {
   "cell_type": "code",
   "execution_count": 14,
   "metadata": {},
   "outputs": [
    {
     "name": "stdout",
     "output_type": "stream",
     "text": [
      "100001\n"
     ]
    }
   ],
   "source": [
    "with bz2.open(address) as f:\n",
    "    print(sum(1 for line in f))"
   ]
  },
  {
   "cell_type": "code",
   "execution_count": 15,
   "metadata": {},
   "outputs": [
    {
     "name": "stdout",
     "output_type": "stream",
     "text": [
      "VendorID,lpep_pickup_datetime,Lpep_dropoff_datetime,Store_and_fwd_flag,RateCodeID,Pickup_longitude,Pickup_latitude,Dropoff_longitude,Dropoff_latitude,Passenger_count,Trip_distance,Fare_amount,Extra,MTA_tax,Tip_amount,Tolls_amount,Ehail_fee,improvement_surcharge,Total_amount,Payment_type,Trip_type \n",
      "2,2015-03-04 15:39:16,2015-03-04 15:42:30,N,1,-73.992240905761719,40.690120697021484,-73.999664306640625,40.684993743896484,2,.71,4.5,0,0.5,0,0,,0.3,5.3,2,1,,\n",
      "2,2015-03-22 17:36:49,2015-03-22 17:45:39,N,5,-73.930038452148438,40.819576263427734,-73.907173156738281,40.811305999755859,2,1.41,12,0,0,0,0,,0,12,2,2,,\n",
      "2,2015-03-25 22:08:45,2015-03-25 22:53:29,N,1,-73.961082458496094,40.807022094726563,-73.984642028808594,40.66314697265625,1,14.36,45,0.5,0.5,9.26,0,,0.3,55.56,1,1,,\n",
      "2,2015-03-16 13:45:20,2015-03-16 13:52:04,N,1,-73.913200378417969,40.777961730957031,-73.926994323730469,40.772743225097656,2,1.05,6.5,0,0.5,0,0,,0.3,7.3,2,1,,\n",
      "2,2015-03-19 18:53:50,2015-03-19 18:59:04,N,1,-73.925888061523438,40.827602386474609,-73.916351318359375,40.824966430664063,1,.92,5.5,1,0.5,0,0,,0.3,7.3,2,1,,\n"
     ]
    }
   ],
   "source": [
    "with bz2.open(address, 'rt') as f:\n",
    "    for lnum, line in enumerate(f):\n",
    "        print(line[:-1])\n",
    "        if lnum > 4:\n",
    "            break"
   ]
  },
  {
   "cell_type": "code",
   "execution_count": 16,
   "metadata": {},
   "outputs": [
    {
     "data": {
      "text/plain": [
       "100000"
      ]
     },
     "execution_count": 16,
     "metadata": {},
     "output_type": "execute_result"
    }
   ],
   "source": [
    "df = pd.read_csv(address)\n",
    "len(df)"
   ]
  },
  {
   "cell_type": "code",
   "execution_count": 17,
   "metadata": {},
   "outputs": [
    {
     "data": {
      "text/plain": [
       "VendorID                 2015-03-04 15:42:30\n",
       "lpep_pickup_datetime                       N\n",
       "Lpep_dropoff_datetime                      1\n",
       "Store_and_fwd_flag                  -73.9922\n",
       "RateCodeID                           40.6901\n",
       "Pickup_longitude                    -73.9997\n",
       "Pickup_latitude                       40.685\n",
       "Dropoff_longitude                          2\n",
       "Dropoff_latitude                        0.71\n",
       "Passenger_count                          4.5\n",
       "Trip_distance                              0\n",
       "Fare_amount                              0.5\n",
       "Extra                                      0\n",
       "MTA_tax                                    0\n",
       "Tip_amount                               NaN\n",
       "Tolls_amount                             0.3\n",
       "Ehail_fee                                5.3\n",
       "improvement_surcharge                      2\n",
       "Total_amount                               1\n",
       "Payment_type                             NaN\n",
       "Trip_type                                NaN\n",
       "Name: (2, 2015-03-04 15:39:16), dtype: object"
      ]
     },
     "execution_count": 17,
     "metadata": {},
     "output_type": "execute_result"
    }
   ],
   "source": [
    "df.iloc[0]"
   ]
  },
  {
   "cell_type": "markdown",
   "metadata": {},
   "source": [
    "These headers are not right. VendorID looks like a time, etc. What seems to be the problem here? Let's load first the header and then a single line and count how many fields there are."
   ]
  },
  {
   "cell_type": "code",
   "execution_count": 25,
   "metadata": {},
   "outputs": [],
   "source": [
    "with bz2.open(address, 'rt') as f:\n",
    "    header = f.readline()\n",
    "    data = f.readline()"
   ]
  },
  {
   "cell_type": "code",
   "execution_count": 26,
   "metadata": {},
   "outputs": [
    {
     "name": "stdout",
     "output_type": "stream",
     "text": [
      "VendorID,lpep_pickup_datetime,Lpep_dropoff_datetime,Store_and_fwd_flag,RateCodeID,Pickup_longitude,Pickup_latitude,Dropoff_longitude,Dropoff_latitude,Passenger_count,Trip_distance,Fare_amount,Extra,MTA_tax,Tip_amount,Tolls_amount,Ehail_fee,improvement_surcharge,Total_amount,Payment_type,Trip_type \n",
      "\n",
      "2,2015-03-04 15:39:16,2015-03-04 15:42:30,N,1,-73.992240905761719,40.690120697021484,-73.999664306640625,40.684993743896484,2,.71,4.5,0,0.5,0,0,,0.3,5.3,2,1,,\n",
      "\n"
     ]
    }
   ],
   "source": [
    "print(header)\n",
    "print(data)"
   ]
  },
  {
   "cell_type": "markdown",
   "metadata": {},
   "source": [
    "There are two commas at the end of the first line, which may be causing the problem."
   ]
  },
  {
   "cell_type": "code",
   "execution_count": 27,
   "metadata": {},
   "outputs": [
    {
     "data": {
      "text/plain": [
       "21"
      ]
     },
     "execution_count": 27,
     "metadata": {},
     "output_type": "execute_result"
    }
   ],
   "source": [
    "len(header.split(','))"
   ]
  },
  {
   "cell_type": "code",
   "execution_count": 28,
   "metadata": {},
   "outputs": [
    {
     "data": {
      "text/plain": [
       "23"
      ]
     },
     "execution_count": 28,
     "metadata": {},
     "output_type": "execute_result"
    }
   ],
   "source": [
    "len(data.split(','))"
   ]
  },
  {
   "cell_type": "code",
   "execution_count": 30,
   "metadata": {},
   "outputs": [],
   "source": [
    "import numpy as np\n",
    "df = pd.read_csv(address, usecols=np.arange(21))"
   ]
  },
  {
   "cell_type": "code",
   "execution_count": 31,
   "metadata": {},
   "outputs": [
    {
     "data": {
      "text/plain": [
       "VendorID                                   2\n",
       "lpep_pickup_datetime     2015-03-04 15:39:16\n",
       "Lpep_dropoff_datetime    2015-03-04 15:42:30\n",
       "Store_and_fwd_flag                         N\n",
       "RateCodeID                                 1\n",
       "Pickup_longitude                    -73.9922\n",
       "Pickup_latitude                      40.6901\n",
       "Dropoff_longitude                   -73.9997\n",
       "Dropoff_latitude                      40.685\n",
       "Passenger_count                            2\n",
       "Trip_distance                           0.71\n",
       "Fare_amount                              4.5\n",
       "Extra                                      0\n",
       "MTA_tax                                  0.5\n",
       "Tip_amount                                 0\n",
       "Tolls_amount                               0\n",
       "Ehail_fee                                NaN\n",
       "improvement_surcharge                    0.3\n",
       "Total_amount                             5.3\n",
       "Payment_type                               2\n",
       "Trip_type                                  1\n",
       "Name: 0, dtype: object"
      ]
     },
     "execution_count": 31,
     "metadata": {},
     "output_type": "execute_result"
    }
   ],
   "source": [
    "df.iloc[0]"
   ]
  },
  {
   "cell_type": "code",
   "execution_count": 32,
   "metadata": {},
   "outputs": [
    {
     "data": {
      "text/plain": [
       "VendorID                   int64\n",
       "lpep_pickup_datetime      object\n",
       "Lpep_dropoff_datetime     object\n",
       "Store_and_fwd_flag        object\n",
       "RateCodeID                 int64\n",
       "Pickup_longitude         float64\n",
       "Pickup_latitude          float64\n",
       "Dropoff_longitude        float64\n",
       "Dropoff_latitude         float64\n",
       "Passenger_count            int64\n",
       "Trip_distance            float64\n",
       "Fare_amount              float64\n",
       "Extra                    float64\n",
       "MTA_tax                  float64\n",
       "Tip_amount               float64\n",
       "Tolls_amount             float64\n",
       "Ehail_fee                float64\n",
       "improvement_surcharge    float64\n",
       "Total_amount             float64\n",
       "Payment_type               int64\n",
       "Trip_type                  int64\n",
       "dtype: object"
      ]
     },
     "execution_count": 32,
     "metadata": {},
     "output_type": "execute_result"
    }
   ],
   "source": [
    "df.dtypes"
   ]
  },
  {
   "cell_type": "markdown",
   "metadata": {},
   "source": [
    "The datetime columns are strings, and we would like dates."
   ]
  },
  {
   "cell_type": "code",
   "execution_count": 33,
   "metadata": {},
   "outputs": [],
   "source": [
    "df = pd.read_csv(address, usecols=np.arange(21), parse_dates=['lpep_pickup_datetime', 'Lpep_dropoff_datetime'])"
   ]
  },
  {
   "cell_type": "code",
   "execution_count": 34,
   "metadata": {},
   "outputs": [
    {
     "data": {
      "text/plain": [
       "VendorID                          int64\n",
       "lpep_pickup_datetime     datetime64[ns]\n",
       "Lpep_dropoff_datetime    datetime64[ns]\n",
       "Store_and_fwd_flag               object\n",
       "RateCodeID                        int64\n",
       "Pickup_longitude                float64\n",
       "Pickup_latitude                 float64\n",
       "Dropoff_longitude               float64\n",
       "Dropoff_latitude                float64\n",
       "Passenger_count                   int64\n",
       "Trip_distance                   float64\n",
       "Fare_amount                     float64\n",
       "Extra                           float64\n",
       "MTA_tax                         float64\n",
       "Tip_amount                      float64\n",
       "Tolls_amount                    float64\n",
       "Ehail_fee                       float64\n",
       "improvement_surcharge           float64\n",
       "Total_amount                    float64\n",
       "Payment_type                      int64\n",
       "Trip_type                         int64\n",
       "dtype: object"
      ]
     },
     "execution_count": 34,
     "metadata": {},
     "output_type": "execute_result"
    }
   ],
   "source": [
    "df.dtypes"
   ]
  },
  {
   "cell_type": "code",
   "execution_count": 35,
   "metadata": {},
   "outputs": [
    {
     "data": {
      "text/plain": [
       "array([2, 1])"
      ]
     },
     "execution_count": 35,
     "metadata": {},
     "output_type": "execute_result"
    }
   ],
   "source": [
    "df['VendorID'].unique()"
   ]
  },
  {
   "cell_type": "code",
   "execution_count": 36,
   "metadata": {},
   "outputs": [],
   "source": [
    "df['Vendor'] = df['VendorID'].apply({1: 'Creative', 2: 'VeriFone'}.get)"
   ]
  },
  {
   "cell_type": "code",
   "execution_count": 37,
   "metadata": {},
   "outputs": [
    {
     "data": {
      "text/plain": [
       "0    VeriFone\n",
       "1    VeriFone\n",
       "2    VeriFone\n",
       "3    VeriFone\n",
       "4    VeriFone\n",
       "Name: Vendor, dtype: object"
      ]
     },
     "execution_count": 37,
     "metadata": {},
     "output_type": "execute_result"
    }
   ],
   "source": [
    "df['Vendor'].head()"
   ]
  },
  {
   "cell_type": "code",
   "execution_count": 38,
   "metadata": {},
   "outputs": [
    {
     "data": {
      "text/plain": [
       "0.7630615234375"
      ]
     },
     "execution_count": 38,
     "metadata": {},
     "output_type": "execute_result"
    }
   ],
   "source": [
    "df['Vendor'].memory_usage() / (1<<20)"
   ]
  },
  {
   "cell_type": "code",
   "execution_count": 39,
   "metadata": {},
   "outputs": [],
   "source": [
    "df['Vendor'] = df['VendorID'].apply({1: 'Creative', 2: 'VeriFone'}.get).astype('category')"
   ]
  },
  {
   "cell_type": "code",
   "execution_count": 40,
   "metadata": {},
   "outputs": [
    {
     "data": {
      "text/plain": [
       "0.0955810546875"
      ]
     },
     "execution_count": 40,
     "metadata": {},
     "output_type": "execute_result"
    }
   ],
   "source": [
    "df['Vendor'].memory_usage() / (1<<20)"
   ]
  },
  {
   "cell_type": "code",
   "execution_count": 41,
   "metadata": {},
   "outputs": [
    {
     "data": {
      "text/plain": [
       "0    1\n",
       "1    1\n",
       "2    1\n",
       "3    1\n",
       "4    1\n",
       "dtype: int8"
      ]
     },
     "execution_count": 41,
     "metadata": {},
     "output_type": "execute_result"
    }
   ],
   "source": [
    "df['Vendor'].head().cat.codes"
   ]
  },
  {
   "cell_type": "code",
   "execution_count": 42,
   "metadata": {},
   "outputs": [
    {
     "data": {
      "text/plain": [
       "77946"
      ]
     },
     "execution_count": 42,
     "metadata": {},
     "output_type": "execute_result"
    }
   ],
   "source": [
    "len(df[df['Vendor']=='VeriFone'])"
   ]
  },
  {
   "cell_type": "markdown",
   "metadata": {},
   "source": [
    "# Grouping rides by hour of pickup"
   ]
  },
  {
   "cell_type": "code",
   "execution_count": 43,
   "metadata": {},
   "outputs": [
    {
     "data": {
      "text/plain": [
       "0   2015-03-04 16:00:00\n",
       "1   2015-03-22 18:00:00\n",
       "2   2015-03-25 22:00:00\n",
       "3   2015-03-16 14:00:00\n",
       "4   2015-03-19 19:00:00\n",
       "Name: lpep_pickup_datetime, dtype: datetime64[ns]"
      ]
     },
     "execution_count": 43,
     "metadata": {},
     "output_type": "execute_result"
    }
   ],
   "source": [
    "df['lpep_pickup_datetime'].head().dt.round('H')"
   ]
  },
  {
   "cell_type": "code",
   "execution_count": 44,
   "metadata": {},
   "outputs": [
    {
     "data": {
      "text/plain": [
       "<pandas.core.groupby.generic.DataFrameGroupBy object at 0x7fcdd06271c0>"
      ]
     },
     "execution_count": 44,
     "metadata": {},
     "output_type": "execute_result"
    }
   ],
   "source": [
    "keys = df['lpep_pickup_datetime'].dt.round('H')\n",
    "df.groupby(keys)"
   ]
  },
  {
   "cell_type": "markdown",
   "metadata": {},
   "source": [
    "We want this grouping in order to count the number of rides per hour."
   ]
  },
  {
   "cell_type": "code",
   "execution_count": 45,
   "metadata": {},
   "outputs": [
    {
     "data": {
      "text/html": [
       "<div>\n",
       "<style scoped>\n",
       "    .dataframe tbody tr th:only-of-type {\n",
       "        vertical-align: middle;\n",
       "    }\n",
       "\n",
       "    .dataframe tbody tr th {\n",
       "        vertical-align: top;\n",
       "    }\n",
       "\n",
       "    .dataframe thead th {\n",
       "        text-align: right;\n",
       "    }\n",
       "</style>\n",
       "<table border=\"1\" class=\"dataframe\">\n",
       "  <thead>\n",
       "    <tr style=\"text-align: right;\">\n",
       "      <th></th>\n",
       "      <th>VendorID</th>\n",
       "      <th>lpep_pickup_datetime</th>\n",
       "      <th>Lpep_dropoff_datetime</th>\n",
       "      <th>Store_and_fwd_flag</th>\n",
       "      <th>RateCodeID</th>\n",
       "      <th>Pickup_longitude</th>\n",
       "      <th>Pickup_latitude</th>\n",
       "      <th>Dropoff_longitude</th>\n",
       "      <th>Dropoff_latitude</th>\n",
       "      <th>Passenger_count</th>\n",
       "      <th>...</th>\n",
       "      <th>Extra</th>\n",
       "      <th>MTA_tax</th>\n",
       "      <th>Tip_amount</th>\n",
       "      <th>Tolls_amount</th>\n",
       "      <th>Ehail_fee</th>\n",
       "      <th>improvement_surcharge</th>\n",
       "      <th>Total_amount</th>\n",
       "      <th>Payment_type</th>\n",
       "      <th>Trip_type</th>\n",
       "      <th>Vendor</th>\n",
       "    </tr>\n",
       "    <tr>\n",
       "      <th>lpep_pickup_datetime</th>\n",
       "      <th></th>\n",
       "      <th></th>\n",
       "      <th></th>\n",
       "      <th></th>\n",
       "      <th></th>\n",
       "      <th></th>\n",
       "      <th></th>\n",
       "      <th></th>\n",
       "      <th></th>\n",
       "      <th></th>\n",
       "      <th></th>\n",
       "      <th></th>\n",
       "      <th></th>\n",
       "      <th></th>\n",
       "      <th></th>\n",
       "      <th></th>\n",
       "      <th></th>\n",
       "      <th></th>\n",
       "      <th></th>\n",
       "      <th></th>\n",
       "      <th></th>\n",
       "    </tr>\n",
       "  </thead>\n",
       "  <tbody>\n",
       "    <tr>\n",
       "      <th>2015-03-01 00:00:00</th>\n",
       "      <td>153</td>\n",
       "      <td>153</td>\n",
       "      <td>153</td>\n",
       "      <td>153</td>\n",
       "      <td>153</td>\n",
       "      <td>153</td>\n",
       "      <td>153</td>\n",
       "      <td>153</td>\n",
       "      <td>153</td>\n",
       "      <td>153</td>\n",
       "      <td>...</td>\n",
       "      <td>153</td>\n",
       "      <td>153</td>\n",
       "      <td>153</td>\n",
       "      <td>153</td>\n",
       "      <td>0</td>\n",
       "      <td>153</td>\n",
       "      <td>153</td>\n",
       "      <td>153</td>\n",
       "      <td>153</td>\n",
       "      <td>153</td>\n",
       "    </tr>\n",
       "    <tr>\n",
       "      <th>2015-03-01 01:00:00</th>\n",
       "      <td>266</td>\n",
       "      <td>266</td>\n",
       "      <td>266</td>\n",
       "      <td>266</td>\n",
       "      <td>266</td>\n",
       "      <td>266</td>\n",
       "      <td>266</td>\n",
       "      <td>266</td>\n",
       "      <td>266</td>\n",
       "      <td>266</td>\n",
       "      <td>...</td>\n",
       "      <td>266</td>\n",
       "      <td>266</td>\n",
       "      <td>266</td>\n",
       "      <td>266</td>\n",
       "      <td>0</td>\n",
       "      <td>266</td>\n",
       "      <td>266</td>\n",
       "      <td>266</td>\n",
       "      <td>266</td>\n",
       "      <td>266</td>\n",
       "    </tr>\n",
       "    <tr>\n",
       "      <th>2015-03-01 02:00:00</th>\n",
       "      <td>241</td>\n",
       "      <td>241</td>\n",
       "      <td>241</td>\n",
       "      <td>241</td>\n",
       "      <td>241</td>\n",
       "      <td>241</td>\n",
       "      <td>241</td>\n",
       "      <td>241</td>\n",
       "      <td>241</td>\n",
       "      <td>241</td>\n",
       "      <td>...</td>\n",
       "      <td>241</td>\n",
       "      <td>241</td>\n",
       "      <td>241</td>\n",
       "      <td>241</td>\n",
       "      <td>0</td>\n",
       "      <td>241</td>\n",
       "      <td>241</td>\n",
       "      <td>241</td>\n",
       "      <td>241</td>\n",
       "      <td>241</td>\n",
       "    </tr>\n",
       "    <tr>\n",
       "      <th>2015-03-01 03:00:00</th>\n",
       "      <td>180</td>\n",
       "      <td>180</td>\n",
       "      <td>180</td>\n",
       "      <td>180</td>\n",
       "      <td>180</td>\n",
       "      <td>180</td>\n",
       "      <td>180</td>\n",
       "      <td>180</td>\n",
       "      <td>180</td>\n",
       "      <td>180</td>\n",
       "      <td>...</td>\n",
       "      <td>180</td>\n",
       "      <td>180</td>\n",
       "      <td>180</td>\n",
       "      <td>180</td>\n",
       "      <td>0</td>\n",
       "      <td>180</td>\n",
       "      <td>180</td>\n",
       "      <td>180</td>\n",
       "      <td>180</td>\n",
       "      <td>180</td>\n",
       "    </tr>\n",
       "    <tr>\n",
       "      <th>2015-03-01 04:00:00</th>\n",
       "      <td>172</td>\n",
       "      <td>172</td>\n",
       "      <td>172</td>\n",
       "      <td>172</td>\n",
       "      <td>172</td>\n",
       "      <td>172</td>\n",
       "      <td>172</td>\n",
       "      <td>172</td>\n",
       "      <td>172</td>\n",
       "      <td>172</td>\n",
       "      <td>...</td>\n",
       "      <td>172</td>\n",
       "      <td>172</td>\n",
       "      <td>172</td>\n",
       "      <td>172</td>\n",
       "      <td>0</td>\n",
       "      <td>172</td>\n",
       "      <td>172</td>\n",
       "      <td>172</td>\n",
       "      <td>172</td>\n",
       "      <td>172</td>\n",
       "    </tr>\n",
       "  </tbody>\n",
       "</table>\n",
       "<p>5 rows × 22 columns</p>\n",
       "</div>"
      ],
      "text/plain": [
       "                      VendorID  lpep_pickup_datetime  Lpep_dropoff_datetime  \\\n",
       "lpep_pickup_datetime                                                          \n",
       "2015-03-01 00:00:00        153                   153                    153   \n",
       "2015-03-01 01:00:00        266                   266                    266   \n",
       "2015-03-01 02:00:00        241                   241                    241   \n",
       "2015-03-01 03:00:00        180                   180                    180   \n",
       "2015-03-01 04:00:00        172                   172                    172   \n",
       "\n",
       "                      Store_and_fwd_flag  RateCodeID  Pickup_longitude  \\\n",
       "lpep_pickup_datetime                                                     \n",
       "2015-03-01 00:00:00                  153         153               153   \n",
       "2015-03-01 01:00:00                  266         266               266   \n",
       "2015-03-01 02:00:00                  241         241               241   \n",
       "2015-03-01 03:00:00                  180         180               180   \n",
       "2015-03-01 04:00:00                  172         172               172   \n",
       "\n",
       "                      Pickup_latitude  Dropoff_longitude  Dropoff_latitude  \\\n",
       "lpep_pickup_datetime                                                         \n",
       "2015-03-01 00:00:00               153                153               153   \n",
       "2015-03-01 01:00:00               266                266               266   \n",
       "2015-03-01 02:00:00               241                241               241   \n",
       "2015-03-01 03:00:00               180                180               180   \n",
       "2015-03-01 04:00:00               172                172               172   \n",
       "\n",
       "                      Passenger_count  ...  Extra  MTA_tax  Tip_amount  \\\n",
       "lpep_pickup_datetime                   ...                               \n",
       "2015-03-01 00:00:00               153  ...    153      153         153   \n",
       "2015-03-01 01:00:00               266  ...    266      266         266   \n",
       "2015-03-01 02:00:00               241  ...    241      241         241   \n",
       "2015-03-01 03:00:00               180  ...    180      180         180   \n",
       "2015-03-01 04:00:00               172  ...    172      172         172   \n",
       "\n",
       "                      Tolls_amount  Ehail_fee  improvement_surcharge  \\\n",
       "lpep_pickup_datetime                                                   \n",
       "2015-03-01 00:00:00            153          0                    153   \n",
       "2015-03-01 01:00:00            266          0                    266   \n",
       "2015-03-01 02:00:00            241          0                    241   \n",
       "2015-03-01 03:00:00            180          0                    180   \n",
       "2015-03-01 04:00:00            172          0                    172   \n",
       "\n",
       "                      Total_amount  Payment_type  Trip_type   Vendor  \n",
       "lpep_pickup_datetime                                                  \n",
       "2015-03-01 00:00:00            153           153         153     153  \n",
       "2015-03-01 01:00:00            266           266         266     266  \n",
       "2015-03-01 02:00:00            241           241         241     241  \n",
       "2015-03-01 03:00:00            180           180         180     180  \n",
       "2015-03-01 04:00:00            172           172         172     172  \n",
       "\n",
       "[5 rows x 22 columns]"
      ]
     },
     "execution_count": 45,
     "metadata": {},
     "output_type": "execute_result"
    }
   ],
   "source": [
    "df.groupby(keys).count().head()"
   ]
  },
  {
   "cell_type": "markdown",
   "metadata": {},
   "source": [
    "This is counting the number of rows in each hour, which is equivalent to the number of rides."
   ]
  },
  {
   "cell_type": "code",
   "execution_count": 48,
   "metadata": {},
   "outputs": [],
   "source": [
    "import matplotlib.pyplot as plt\n",
    "%matplotlib inline\n",
    "%config InlineBackend.figure_format = 'retina'\n",
    "plt.style.use('seaborn-whitegrid')\n",
    "plt.rcParams['figure.figsize'] = (12, 8)"
   ]
  },
  {
   "cell_type": "code",
   "execution_count": 49,
   "metadata": {},
   "outputs": [
    {
     "data": {
      "text/plain": [
       "<matplotlib.axes._subplots.AxesSubplot at 0x7fcde1e21160>"
      ]
     },
     "execution_count": 49,
     "metadata": {},
     "output_type": "execute_result"
    },
    {
     "data": {
      "image/png": "[encoded data removed]",
      "text/plain": [
       "<Figure size 864x576 with 1 Axes>"
      ]
     },
     "metadata": {
      "image/png": {
       "height": 508,
       "width": 711
      }
     },
     "output_type": "display_data"
    }
   ],
   "source": [
    "df.groupby(keys).count()['Vendor'].plot()"
   ]
  },
  {
   "cell_type": "code",
   "execution_count": 50,
   "metadata": {},
   "outputs": [
    {
     "data": {
      "text/plain": [
       "<matplotlib.axes._subplots.AxesSubplot at 0x7fcde11f8d90>"
      ]
     },
     "execution_count": 50,
     "metadata": {},
     "output_type": "execute_result"
    },
    {
     "data": {
      "image/png": "[encoded data removed]",
      "text/plain": [
       "<Figure size 864x576 with 1 Axes>"
      ]
     },
     "metadata": {
      "image/png": {
       "height": 538,
       "width": 728
      }
     },
     "output_type": "display_data"
    }
   ],
   "source": [
    "df.groupby(keys).count()['Vendor'].loc['2015-03-10'].plot.bar(rot=45)"
   ]
  },
  {
   "cell_type": "code",
   "execution_count": 51,
   "metadata": {},
   "outputs": [],
   "source": [
    "df['hour'] = df['lpep_pickup_datetime'].dt.hour\n",
    "df['day'] = df['lpep_pickup_datetime'].dt.date"
   ]
  },
  {
   "cell_type": "code",
   "execution_count": 52,
   "metadata": {},
   "outputs": [
    {
     "data": {
      "text/html": [
       "<div>\n",
       "<style scoped>\n",
       "    .dataframe tbody tr th:only-of-type {\n",
       "        vertical-align: middle;\n",
       "    }\n",
       "\n",
       "    .dataframe tbody tr th {\n",
       "        vertical-align: top;\n",
       "    }\n",
       "\n",
       "    .dataframe thead th {\n",
       "        text-align: right;\n",
       "    }\n",
       "</style>\n",
       "<table border=\"1\" class=\"dataframe\">\n",
       "  <thead>\n",
       "    <tr style=\"text-align: right;\">\n",
       "      <th></th>\n",
       "      <th>hour</th>\n",
       "      <th>day</th>\n",
       "    </tr>\n",
       "  </thead>\n",
       "  <tbody>\n",
       "    <tr>\n",
       "      <th>0</th>\n",
       "      <td>15</td>\n",
       "      <td>2015-03-04</td>\n",
       "    </tr>\n",
       "    <tr>\n",
       "      <th>1</th>\n",
       "      <td>17</td>\n",
       "      <td>2015-03-22</td>\n",
       "    </tr>\n",
       "    <tr>\n",
       "      <th>2</th>\n",
       "      <td>22</td>\n",
       "      <td>2015-03-25</td>\n",
       "    </tr>\n",
       "    <tr>\n",
       "      <th>3</th>\n",
       "      <td>13</td>\n",
       "      <td>2015-03-16</td>\n",
       "    </tr>\n",
       "    <tr>\n",
       "      <th>4</th>\n",
       "      <td>18</td>\n",
       "      <td>2015-03-19</td>\n",
       "    </tr>\n",
       "    <tr>\n",
       "      <th>...</th>\n",
       "      <td>...</td>\n",
       "      <td>...</td>\n",
       "    </tr>\n",
       "    <tr>\n",
       "      <th>99995</th>\n",
       "      <td>17</td>\n",
       "      <td>2015-03-04</td>\n",
       "    </tr>\n",
       "    <tr>\n",
       "      <th>99996</th>\n",
       "      <td>19</td>\n",
       "      <td>2015-03-31</td>\n",
       "    </tr>\n",
       "    <tr>\n",
       "      <th>99997</th>\n",
       "      <td>12</td>\n",
       "      <td>2015-03-24</td>\n",
       "    </tr>\n",
       "    <tr>\n",
       "      <th>99998</th>\n",
       "      <td>19</td>\n",
       "      <td>2015-03-08</td>\n",
       "    </tr>\n",
       "    <tr>\n",
       "      <th>99999</th>\n",
       "      <td>2</td>\n",
       "      <td>2015-03-15</td>\n",
       "    </tr>\n",
       "  </tbody>\n",
       "</table>\n",
       "<p>100000 rows × 2 columns</p>\n",
       "</div>"
      ],
      "text/plain": [
       "       hour         day\n",
       "0        15  2015-03-04\n",
       "1        17  2015-03-22\n",
       "2        22  2015-03-25\n",
       "3        13  2015-03-16\n",
       "4        18  2015-03-19\n",
       "...     ...         ...\n",
       "99995    17  2015-03-04\n",
       "99996    19  2015-03-31\n",
       "99997    12  2015-03-24\n",
       "99998    19  2015-03-08\n",
       "99999     2  2015-03-15\n",
       "\n",
       "[100000 rows x 2 columns]"
      ]
     },
     "execution_count": 52,
     "metadata": {},
     "output_type": "execute_result"
    }
   ],
   "source": [
    "df[['hour', 'day']]"
   ]
  },
  {
   "cell_type": "code",
   "execution_count": 53,
   "metadata": {},
   "outputs": [
    {
     "data": {
      "text/html": [
       "<div>\n",
       "<style scoped>\n",
       "    .dataframe tbody tr th:only-of-type {\n",
       "        vertical-align: middle;\n",
       "    }\n",
       "\n",
       "    .dataframe tbody tr th {\n",
       "        vertical-align: top;\n",
       "    }\n",
       "\n",
       "    .dataframe thead th {\n",
       "        text-align: right;\n",
       "    }\n",
       "</style>\n",
       "<table border=\"1\" class=\"dataframe\">\n",
       "  <thead>\n",
       "    <tr style=\"text-align: right;\">\n",
       "      <th></th>\n",
       "      <th></th>\n",
       "      <th></th>\n",
       "      <th>VendorID</th>\n",
       "      <th>lpep_pickup_datetime</th>\n",
       "      <th>Lpep_dropoff_datetime</th>\n",
       "      <th>Store_and_fwd_flag</th>\n",
       "      <th>RateCodeID</th>\n",
       "      <th>Pickup_longitude</th>\n",
       "      <th>Pickup_latitude</th>\n",
       "      <th>Dropoff_longitude</th>\n",
       "      <th>Dropoff_latitude</th>\n",
       "      <th>Passenger_count</th>\n",
       "      <th>...</th>\n",
       "      <th>Fare_amount</th>\n",
       "      <th>Extra</th>\n",
       "      <th>MTA_tax</th>\n",
       "      <th>Tip_amount</th>\n",
       "      <th>Tolls_amount</th>\n",
       "      <th>Ehail_fee</th>\n",
       "      <th>improvement_surcharge</th>\n",
       "      <th>Total_amount</th>\n",
       "      <th>Payment_type</th>\n",
       "      <th>Trip_type</th>\n",
       "    </tr>\n",
       "    <tr>\n",
       "      <th>Vendor</th>\n",
       "      <th>day</th>\n",
       "      <th>hour</th>\n",
       "      <th></th>\n",
       "      <th></th>\n",
       "      <th></th>\n",
       "      <th></th>\n",
       "      <th></th>\n",
       "      <th></th>\n",
       "      <th></th>\n",
       "      <th></th>\n",
       "      <th></th>\n",
       "      <th></th>\n",
       "      <th></th>\n",
       "      <th></th>\n",
       "      <th></th>\n",
       "      <th></th>\n",
       "      <th></th>\n",
       "      <th></th>\n",
       "      <th></th>\n",
       "      <th></th>\n",
       "      <th></th>\n",
       "      <th></th>\n",
       "      <th></th>\n",
       "    </tr>\n",
       "  </thead>\n",
       "  <tbody>\n",
       "    <tr>\n",
       "      <th rowspan=\"5\" valign=\"top\">Creative</th>\n",
       "      <th rowspan=\"5\" valign=\"top\">2015-03-01</th>\n",
       "      <th>0</th>\n",
       "      <td>60.0</td>\n",
       "      <td>60.0</td>\n",
       "      <td>60.0</td>\n",
       "      <td>60.0</td>\n",
       "      <td>60.0</td>\n",
       "      <td>60.0</td>\n",
       "      <td>60.0</td>\n",
       "      <td>60.0</td>\n",
       "      <td>60.0</td>\n",
       "      <td>60.0</td>\n",
       "      <td>...</td>\n",
       "      <td>60.0</td>\n",
       "      <td>60.0</td>\n",
       "      <td>60.0</td>\n",
       "      <td>60.0</td>\n",
       "      <td>60.0</td>\n",
       "      <td>0.0</td>\n",
       "      <td>60.0</td>\n",
       "      <td>60.0</td>\n",
       "      <td>60.0</td>\n",
       "      <td>60.0</td>\n",
       "    </tr>\n",
       "    <tr>\n",
       "      <th>1</th>\n",
       "      <td>60.0</td>\n",
       "      <td>60.0</td>\n",
       "      <td>60.0</td>\n",
       "      <td>60.0</td>\n",
       "      <td>60.0</td>\n",
       "      <td>60.0</td>\n",
       "      <td>60.0</td>\n",
       "      <td>60.0</td>\n",
       "      <td>60.0</td>\n",
       "      <td>60.0</td>\n",
       "      <td>...</td>\n",
       "      <td>60.0</td>\n",
       "      <td>60.0</td>\n",
       "      <td>60.0</td>\n",
       "      <td>60.0</td>\n",
       "      <td>60.0</td>\n",
       "      <td>0.0</td>\n",
       "      <td>60.0</td>\n",
       "      <td>60.0</td>\n",
       "      <td>60.0</td>\n",
       "      <td>60.0</td>\n",
       "    </tr>\n",
       "    <tr>\n",
       "      <th>2</th>\n",
       "      <td>51.0</td>\n",
       "      <td>51.0</td>\n",
       "      <td>51.0</td>\n",
       "      <td>51.0</td>\n",
       "      <td>51.0</td>\n",
       "      <td>51.0</td>\n",
       "      <td>51.0</td>\n",
       "      <td>51.0</td>\n",
       "      <td>51.0</td>\n",
       "      <td>51.0</td>\n",
       "      <td>...</td>\n",
       "      <td>51.0</td>\n",
       "      <td>51.0</td>\n",
       "      <td>51.0</td>\n",
       "      <td>51.0</td>\n",
       "      <td>51.0</td>\n",
       "      <td>0.0</td>\n",
       "      <td>51.0</td>\n",
       "      <td>51.0</td>\n",
       "      <td>51.0</td>\n",
       "      <td>51.0</td>\n",
       "    </tr>\n",
       "    <tr>\n",
       "      <th>3</th>\n",
       "      <td>41.0</td>\n",
       "      <td>41.0</td>\n",
       "      <td>41.0</td>\n",
       "      <td>41.0</td>\n",
       "      <td>41.0</td>\n",
       "      <td>41.0</td>\n",
       "      <td>41.0</td>\n",
       "      <td>41.0</td>\n",
       "      <td>41.0</td>\n",
       "      <td>41.0</td>\n",
       "      <td>...</td>\n",
       "      <td>41.0</td>\n",
       "      <td>41.0</td>\n",
       "      <td>41.0</td>\n",
       "      <td>41.0</td>\n",
       "      <td>41.0</td>\n",
       "      <td>0.0</td>\n",
       "      <td>41.0</td>\n",
       "      <td>41.0</td>\n",
       "      <td>41.0</td>\n",
       "      <td>41.0</td>\n",
       "    </tr>\n",
       "    <tr>\n",
       "      <th>4</th>\n",
       "      <td>28.0</td>\n",
       "      <td>28.0</td>\n",
       "      <td>28.0</td>\n",
       "      <td>28.0</td>\n",
       "      <td>28.0</td>\n",
       "      <td>28.0</td>\n",
       "      <td>28.0</td>\n",
       "      <td>28.0</td>\n",
       "      <td>28.0</td>\n",
       "      <td>28.0</td>\n",
       "      <td>...</td>\n",
       "      <td>28.0</td>\n",
       "      <td>28.0</td>\n",
       "      <td>28.0</td>\n",
       "      <td>28.0</td>\n",
       "      <td>28.0</td>\n",
       "      <td>0.0</td>\n",
       "      <td>28.0</td>\n",
       "      <td>28.0</td>\n",
       "      <td>28.0</td>\n",
       "      <td>28.0</td>\n",
       "    </tr>\n",
       "  </tbody>\n",
       "</table>\n",
       "<p>5 rows × 21 columns</p>\n",
       "</div>"
      ],
      "text/plain": [
       "                          VendorID  lpep_pickup_datetime  \\\n",
       "Vendor   day        hour                                   \n",
       "Creative 2015-03-01 0         60.0                  60.0   \n",
       "                    1         60.0                  60.0   \n",
       "                    2         51.0                  51.0   \n",
       "                    3         41.0                  41.0   \n",
       "                    4         28.0                  28.0   \n",
       "\n",
       "                          Lpep_dropoff_datetime  Store_and_fwd_flag  \\\n",
       "Vendor   day        hour                                              \n",
       "Creative 2015-03-01 0                      60.0                60.0   \n",
       "                    1                      60.0                60.0   \n",
       "                    2                      51.0                51.0   \n",
       "                    3                      41.0                41.0   \n",
       "                    4                      28.0                28.0   \n",
       "\n",
       "                          RateCodeID  Pickup_longitude  Pickup_latitude  \\\n",
       "Vendor   day        hour                                                  \n",
       "Creative 2015-03-01 0           60.0              60.0             60.0   \n",
       "                    1           60.0              60.0             60.0   \n",
       "                    2           51.0              51.0             51.0   \n",
       "                    3           41.0              41.0             41.0   \n",
       "                    4           28.0              28.0             28.0   \n",
       "\n",
       "                          Dropoff_longitude  Dropoff_latitude  \\\n",
       "Vendor   day        hour                                        \n",
       "Creative 2015-03-01 0                  60.0              60.0   \n",
       "                    1                  60.0              60.0   \n",
       "                    2                  51.0              51.0   \n",
       "                    3                  41.0              41.0   \n",
       "                    4                  28.0              28.0   \n",
       "\n",
       "                          Passenger_count  ...  Fare_amount  Extra  MTA_tax  \\\n",
       "Vendor   day        hour                   ...                                \n",
       "Creative 2015-03-01 0                60.0  ...         60.0   60.0     60.0   \n",
       "                    1                60.0  ...         60.0   60.0     60.0   \n",
       "                    2                51.0  ...         51.0   51.0     51.0   \n",
       "                    3                41.0  ...         41.0   41.0     41.0   \n",
       "                    4                28.0  ...         28.0   28.0     28.0   \n",
       "\n",
       "                          Tip_amount  Tolls_amount  Ehail_fee  \\\n",
       "Vendor   day        hour                                        \n",
       "Creative 2015-03-01 0           60.0          60.0        0.0   \n",
       "                    1           60.0          60.0        0.0   \n",
       "                    2           51.0          51.0        0.0   \n",
       "                    3           41.0          41.0        0.0   \n",
       "                    4           28.0          28.0        0.0   \n",
       "\n",
       "                          improvement_surcharge  Total_amount  Payment_type  \\\n",
       "Vendor   day        hour                                                      \n",
       "Creative 2015-03-01 0                      60.0          60.0          60.0   \n",
       "                    1                      60.0          60.0          60.0   \n",
       "                    2                      51.0          51.0          51.0   \n",
       "                    3                      41.0          41.0          41.0   \n",
       "                    4                      28.0          28.0          28.0   \n",
       "\n",
       "                          Trip_type   \n",
       "Vendor   day        hour              \n",
       "Creative 2015-03-01 0           60.0  \n",
       "                    1           60.0  \n",
       "                    2           51.0  \n",
       "                    3           41.0  \n",
       "                    4           28.0  \n",
       "\n",
       "[5 rows x 21 columns]"
      ]
     },
     "execution_count": 53,
     "metadata": {},
     "output_type": "execute_result"
    }
   ],
   "source": [
    "df.groupby(['Vendor', 'day', 'hour']).count().head()"
   ]
  },
  {
   "cell_type": "code",
   "execution_count": 56,
   "metadata": {},
   "outputs": [
    {
     "data": {
      "text/plain": [
       "MultiIndex([('Creative', 2015-03-01,  0),\n",
       "            ('Creative', 2015-03-01,  1),\n",
       "            ('Creative', 2015-03-01,  2),\n",
       "            ('Creative', 2015-03-01,  3),\n",
       "            ('Creative', 2015-03-01,  4),\n",
       "            ('Creative', 2015-03-01,  5),\n",
       "            ('Creative', 2015-03-01,  6),\n",
       "            ('Creative', 2015-03-01,  7),\n",
       "            ('Creative', 2015-03-01,  8),\n",
       "            ('Creative', 2015-03-01,  9),\n",
       "            ...\n",
       "            ('VeriFone', 2015-03-31, 14),\n",
       "            ('VeriFone', 2015-03-31, 15),\n",
       "            ('VeriFone', 2015-03-31, 16),\n",
       "            ('VeriFone', 2015-03-31, 17),\n",
       "            ('VeriFone', 2015-03-31, 18),\n",
       "            ('VeriFone', 2015-03-31, 19),\n",
       "            ('VeriFone', 2015-03-31, 20),\n",
       "            ('VeriFone', 2015-03-31, 21),\n",
       "            ('VeriFone', 2015-03-31, 22),\n",
       "            ('VeriFone', 2015-03-31, 23)],\n",
       "           names=['Vendor', 'day', 'hour'], length=1488)"
      ]
     },
     "execution_count": 56,
     "metadata": {},
     "output_type": "execute_result"
    }
   ],
   "source": [
    "df.groupby(['Vendor', 'day', 'hour']).count().index"
   ]
  },
  {
   "cell_type": "markdown",
   "metadata": {},
   "source": [
    "When we group by a column, those columns become indices, and are no longer available for, say, counting. Attempting this grouping while trying to count the Vendor column would result in a key error."
   ]
  },
  {
   "cell_type": "code",
   "execution_count": 57,
   "metadata": {},
   "outputs": [
    {
     "data": {
      "text/html": [
       "<div>\n",
       "<style scoped>\n",
       "    .dataframe tbody tr th:only-of-type {\n",
       "        vertical-align: middle;\n",
       "    }\n",
       "\n",
       "    .dataframe tbody tr th {\n",
       "        vertical-align: top;\n",
       "    }\n",
       "\n",
       "    .dataframe thead th {\n",
       "        text-align: right;\n",
       "    }\n",
       "</style>\n",
       "<table border=\"1\" class=\"dataframe\">\n",
       "  <thead>\n",
       "    <tr style=\"text-align: right;\">\n",
       "      <th></th>\n",
       "      <th>Vendor</th>\n",
       "      <th>day</th>\n",
       "      <th>hour</th>\n",
       "      <th>VendorID</th>\n",
       "      <th>lpep_pickup_datetime</th>\n",
       "      <th>Lpep_dropoff_datetime</th>\n",
       "      <th>Store_and_fwd_flag</th>\n",
       "      <th>RateCodeID</th>\n",
       "      <th>Pickup_longitude</th>\n",
       "      <th>Pickup_latitude</th>\n",
       "      <th>...</th>\n",
       "      <th>Fare_amount</th>\n",
       "      <th>Extra</th>\n",
       "      <th>MTA_tax</th>\n",
       "      <th>Tip_amount</th>\n",
       "      <th>Tolls_amount</th>\n",
       "      <th>Ehail_fee</th>\n",
       "      <th>improvement_surcharge</th>\n",
       "      <th>Total_amount</th>\n",
       "      <th>Payment_type</th>\n",
       "      <th>Trip_type</th>\n",
       "    </tr>\n",
       "  </thead>\n",
       "  <tbody>\n",
       "    <tr>\n",
       "      <th>0</th>\n",
       "      <td>Creative</td>\n",
       "      <td>2015-03-01</td>\n",
       "      <td>0</td>\n",
       "      <td>60.0</td>\n",
       "      <td>60.0</td>\n",
       "      <td>60.0</td>\n",
       "      <td>60.0</td>\n",
       "      <td>60.0</td>\n",
       "      <td>60.0</td>\n",
       "      <td>60.0</td>\n",
       "      <td>...</td>\n",
       "      <td>60.0</td>\n",
       "      <td>60.0</td>\n",
       "      <td>60.0</td>\n",
       "      <td>60.0</td>\n",
       "      <td>60.0</td>\n",
       "      <td>0.0</td>\n",
       "      <td>60.0</td>\n",
       "      <td>60.0</td>\n",
       "      <td>60.0</td>\n",
       "      <td>60.0</td>\n",
       "    </tr>\n",
       "    <tr>\n",
       "      <th>1</th>\n",
       "      <td>Creative</td>\n",
       "      <td>2015-03-01</td>\n",
       "      <td>1</td>\n",
       "      <td>60.0</td>\n",
       "      <td>60.0</td>\n",
       "      <td>60.0</td>\n",
       "      <td>60.0</td>\n",
       "      <td>60.0</td>\n",
       "      <td>60.0</td>\n",
       "      <td>60.0</td>\n",
       "      <td>...</td>\n",
       "      <td>60.0</td>\n",
       "      <td>60.0</td>\n",
       "      <td>60.0</td>\n",
       "      <td>60.0</td>\n",
       "      <td>60.0</td>\n",
       "      <td>0.0</td>\n",
       "      <td>60.0</td>\n",
       "      <td>60.0</td>\n",
       "      <td>60.0</td>\n",
       "      <td>60.0</td>\n",
       "    </tr>\n",
       "    <tr>\n",
       "      <th>2</th>\n",
       "      <td>Creative</td>\n",
       "      <td>2015-03-01</td>\n",
       "      <td>2</td>\n",
       "      <td>51.0</td>\n",
       "      <td>51.0</td>\n",
       "      <td>51.0</td>\n",
       "      <td>51.0</td>\n",
       "      <td>51.0</td>\n",
       "      <td>51.0</td>\n",
       "      <td>51.0</td>\n",
       "      <td>...</td>\n",
       "      <td>51.0</td>\n",
       "      <td>51.0</td>\n",
       "      <td>51.0</td>\n",
       "      <td>51.0</td>\n",
       "      <td>51.0</td>\n",
       "      <td>0.0</td>\n",
       "      <td>51.0</td>\n",
       "      <td>51.0</td>\n",
       "      <td>51.0</td>\n",
       "      <td>51.0</td>\n",
       "    </tr>\n",
       "    <tr>\n",
       "      <th>3</th>\n",
       "      <td>Creative</td>\n",
       "      <td>2015-03-01</td>\n",
       "      <td>3</td>\n",
       "      <td>41.0</td>\n",
       "      <td>41.0</td>\n",
       "      <td>41.0</td>\n",
       "      <td>41.0</td>\n",
       "      <td>41.0</td>\n",
       "      <td>41.0</td>\n",
       "      <td>41.0</td>\n",
       "      <td>...</td>\n",
       "      <td>41.0</td>\n",
       "      <td>41.0</td>\n",
       "      <td>41.0</td>\n",
       "      <td>41.0</td>\n",
       "      <td>41.0</td>\n",
       "      <td>0.0</td>\n",
       "      <td>41.0</td>\n",
       "      <td>41.0</td>\n",
       "      <td>41.0</td>\n",
       "      <td>41.0</td>\n",
       "    </tr>\n",
       "    <tr>\n",
       "      <th>4</th>\n",
       "      <td>Creative</td>\n",
       "      <td>2015-03-01</td>\n",
       "      <td>4</td>\n",
       "      <td>28.0</td>\n",
       "      <td>28.0</td>\n",
       "      <td>28.0</td>\n",
       "      <td>28.0</td>\n",
       "      <td>28.0</td>\n",
       "      <td>28.0</td>\n",
       "      <td>28.0</td>\n",
       "      <td>...</td>\n",
       "      <td>28.0</td>\n",
       "      <td>28.0</td>\n",
       "      <td>28.0</td>\n",
       "      <td>28.0</td>\n",
       "      <td>28.0</td>\n",
       "      <td>0.0</td>\n",
       "      <td>28.0</td>\n",
       "      <td>28.0</td>\n",
       "      <td>28.0</td>\n",
       "      <td>28.0</td>\n",
       "    </tr>\n",
       "  </tbody>\n",
       "</table>\n",
       "<p>5 rows × 24 columns</p>\n",
       "</div>"
      ],
      "text/plain": [
       "     Vendor         day  hour  VendorID  lpep_pickup_datetime  \\\n",
       "0  Creative  2015-03-01     0      60.0                  60.0   \n",
       "1  Creative  2015-03-01     1      60.0                  60.0   \n",
       "2  Creative  2015-03-01     2      51.0                  51.0   \n",
       "3  Creative  2015-03-01     3      41.0                  41.0   \n",
       "4  Creative  2015-03-01     4      28.0                  28.0   \n",
       "\n",
       "   Lpep_dropoff_datetime  Store_and_fwd_flag  RateCodeID  Pickup_longitude  \\\n",
       "0                   60.0                60.0        60.0              60.0   \n",
       "1                   60.0                60.0        60.0              60.0   \n",
       "2                   51.0                51.0        51.0              51.0   \n",
       "3                   41.0                41.0        41.0              41.0   \n",
       "4                   28.0                28.0        28.0              28.0   \n",
       "\n",
       "   Pickup_latitude  ...  Fare_amount  Extra  MTA_tax  Tip_amount  \\\n",
       "0             60.0  ...         60.0   60.0     60.0        60.0   \n",
       "1             60.0  ...         60.0   60.0     60.0        60.0   \n",
       "2             51.0  ...         51.0   51.0     51.0        51.0   \n",
       "3             41.0  ...         41.0   41.0     41.0        41.0   \n",
       "4             28.0  ...         28.0   28.0     28.0        28.0   \n",
       "\n",
       "   Tolls_amount  Ehail_fee  improvement_surcharge  Total_amount  Payment_type  \\\n",
       "0          60.0        0.0                   60.0          60.0          60.0   \n",
       "1          60.0        0.0                   60.0          60.0          60.0   \n",
       "2          51.0        0.0                   51.0          51.0          51.0   \n",
       "3          41.0        0.0                   41.0          41.0          41.0   \n",
       "4          28.0        0.0                   28.0          28.0          28.0   \n",
       "\n",
       "   Trip_type   \n",
       "0        60.0  \n",
       "1        60.0  \n",
       "2        51.0  \n",
       "3        41.0  \n",
       "4        28.0  \n",
       "\n",
       "[5 rows x 24 columns]"
      ]
     },
     "execution_count": 57,
     "metadata": {},
     "output_type": "execute_result"
    }
   ],
   "source": [
    "ddf = df.groupby(['Vendor', 'day', 'hour'], as_index=False).count()\n",
    "ddf.head()"
   ]
  },
  {
   "cell_type": "code",
   "execution_count": 58,
   "metadata": {},
   "outputs": [
    {
     "data": {
      "text/html": [
       "<div>\n",
       "<style scoped>\n",
       "    .dataframe tbody tr th:only-of-type {\n",
       "        vertical-align: middle;\n",
       "    }\n",
       "\n",
       "    .dataframe tbody tr th {\n",
       "        vertical-align: top;\n",
       "    }\n",
       "\n",
       "    .dataframe thead th {\n",
       "        text-align: right;\n",
       "    }\n",
       "</style>\n",
       "<table border=\"1\" class=\"dataframe\">\n",
       "  <thead>\n",
       "    <tr style=\"text-align: right;\">\n",
       "      <th></th>\n",
       "      <th>Vendor</th>\n",
       "      <th>hour</th>\n",
       "      <th>VendorID</th>\n",
       "      <th>lpep_pickup_datetime</th>\n",
       "      <th>Lpep_dropoff_datetime</th>\n",
       "      <th>Store_and_fwd_flag</th>\n",
       "      <th>RateCodeID</th>\n",
       "      <th>Pickup_longitude</th>\n",
       "      <th>Pickup_latitude</th>\n",
       "      <th>Dropoff_longitude</th>\n",
       "      <th>...</th>\n",
       "      <th>Fare_amount</th>\n",
       "      <th>Extra</th>\n",
       "      <th>MTA_tax</th>\n",
       "      <th>Tip_amount</th>\n",
       "      <th>Tolls_amount</th>\n",
       "      <th>Ehail_fee</th>\n",
       "      <th>improvement_surcharge</th>\n",
       "      <th>Total_amount</th>\n",
       "      <th>Payment_type</th>\n",
       "      <th>Trip_type</th>\n",
       "    </tr>\n",
       "  </thead>\n",
       "  <tbody>\n",
       "    <tr>\n",
       "      <th>0</th>\n",
       "      <td>Creative</td>\n",
       "      <td>0</td>\n",
       "      <td>23.0</td>\n",
       "      <td>23.0</td>\n",
       "      <td>23.0</td>\n",
       "      <td>23.0</td>\n",
       "      <td>23.0</td>\n",
       "      <td>23.0</td>\n",
       "      <td>23.0</td>\n",
       "      <td>23.0</td>\n",
       "      <td>...</td>\n",
       "      <td>23.0</td>\n",
       "      <td>23.0</td>\n",
       "      <td>23.0</td>\n",
       "      <td>23.0</td>\n",
       "      <td>23.0</td>\n",
       "      <td>0.0</td>\n",
       "      <td>23.0</td>\n",
       "      <td>23.0</td>\n",
       "      <td>23.0</td>\n",
       "      <td>23.0</td>\n",
       "    </tr>\n",
       "    <tr>\n",
       "      <th>1</th>\n",
       "      <td>Creative</td>\n",
       "      <td>1</td>\n",
       "      <td>18.0</td>\n",
       "      <td>18.0</td>\n",
       "      <td>18.0</td>\n",
       "      <td>18.0</td>\n",
       "      <td>18.0</td>\n",
       "      <td>18.0</td>\n",
       "      <td>18.0</td>\n",
       "      <td>18.0</td>\n",
       "      <td>...</td>\n",
       "      <td>18.0</td>\n",
       "      <td>18.0</td>\n",
       "      <td>18.0</td>\n",
       "      <td>18.0</td>\n",
       "      <td>18.0</td>\n",
       "      <td>0.0</td>\n",
       "      <td>18.0</td>\n",
       "      <td>18.0</td>\n",
       "      <td>18.0</td>\n",
       "      <td>18.0</td>\n",
       "    </tr>\n",
       "    <tr>\n",
       "      <th>2</th>\n",
       "      <td>Creative</td>\n",
       "      <td>2</td>\n",
       "      <td>11.5</td>\n",
       "      <td>11.5</td>\n",
       "      <td>11.5</td>\n",
       "      <td>11.5</td>\n",
       "      <td>11.5</td>\n",
       "      <td>11.5</td>\n",
       "      <td>11.5</td>\n",
       "      <td>11.5</td>\n",
       "      <td>...</td>\n",
       "      <td>11.5</td>\n",
       "      <td>11.5</td>\n",
       "      <td>11.5</td>\n",
       "      <td>11.5</td>\n",
       "      <td>11.5</td>\n",
       "      <td>0.0</td>\n",
       "      <td>11.5</td>\n",
       "      <td>11.5</td>\n",
       "      <td>11.5</td>\n",
       "      <td>11.5</td>\n",
       "    </tr>\n",
       "    <tr>\n",
       "      <th>3</th>\n",
       "      <td>Creative</td>\n",
       "      <td>3</td>\n",
       "      <td>8.0</td>\n",
       "      <td>8.0</td>\n",
       "      <td>8.0</td>\n",
       "      <td>8.0</td>\n",
       "      <td>8.0</td>\n",
       "      <td>8.0</td>\n",
       "      <td>8.0</td>\n",
       "      <td>8.0</td>\n",
       "      <td>...</td>\n",
       "      <td>8.0</td>\n",
       "      <td>8.0</td>\n",
       "      <td>8.0</td>\n",
       "      <td>8.0</td>\n",
       "      <td>8.0</td>\n",
       "      <td>0.0</td>\n",
       "      <td>8.0</td>\n",
       "      <td>8.0</td>\n",
       "      <td>8.0</td>\n",
       "      <td>8.0</td>\n",
       "    </tr>\n",
       "    <tr>\n",
       "      <th>4</th>\n",
       "      <td>Creative</td>\n",
       "      <td>4</td>\n",
       "      <td>12.0</td>\n",
       "      <td>12.0</td>\n",
       "      <td>12.0</td>\n",
       "      <td>12.0</td>\n",
       "      <td>12.0</td>\n",
       "      <td>12.0</td>\n",
       "      <td>12.0</td>\n",
       "      <td>12.0</td>\n",
       "      <td>...</td>\n",
       "      <td>12.0</td>\n",
       "      <td>12.0</td>\n",
       "      <td>12.0</td>\n",
       "      <td>12.0</td>\n",
       "      <td>12.0</td>\n",
       "      <td>0.0</td>\n",
       "      <td>12.0</td>\n",
       "      <td>12.0</td>\n",
       "      <td>12.0</td>\n",
       "      <td>12.0</td>\n",
       "    </tr>\n",
       "  </tbody>\n",
       "</table>\n",
       "<p>5 rows × 23 columns</p>\n",
       "</div>"
      ],
      "text/plain": [
       "     Vendor  hour  VendorID  lpep_pickup_datetime  Lpep_dropoff_datetime  \\\n",
       "0  Creative     0      23.0                  23.0                   23.0   \n",
       "1  Creative     1      18.0                  18.0                   18.0   \n",
       "2  Creative     2      11.5                  11.5                   11.5   \n",
       "3  Creative     3       8.0                   8.0                    8.0   \n",
       "4  Creative     4      12.0                  12.0                   12.0   \n",
       "\n",
       "   Store_and_fwd_flag  RateCodeID  Pickup_longitude  Pickup_latitude  \\\n",
       "0                23.0        23.0              23.0             23.0   \n",
       "1                18.0        18.0              18.0             18.0   \n",
       "2                11.5        11.5              11.5             11.5   \n",
       "3                 8.0         8.0               8.0              8.0   \n",
       "4                12.0        12.0              12.0             12.0   \n",
       "\n",
       "   Dropoff_longitude  ...  Fare_amount  Extra  MTA_tax  Tip_amount  \\\n",
       "0               23.0  ...         23.0   23.0     23.0        23.0   \n",
       "1               18.0  ...         18.0   18.0     18.0        18.0   \n",
       "2               11.5  ...         11.5   11.5     11.5        11.5   \n",
       "3                8.0  ...          8.0    8.0      8.0         8.0   \n",
       "4               12.0  ...         12.0   12.0     12.0        12.0   \n",
       "\n",
       "   Tolls_amount  Ehail_fee  improvement_surcharge  Total_amount  Payment_type  \\\n",
       "0          23.0        0.0                   23.0          23.0          23.0   \n",
       "1          18.0        0.0                   18.0          18.0          18.0   \n",
       "2          11.5        0.0                   11.5          11.5          11.5   \n",
       "3           8.0        0.0                    8.0           8.0           8.0   \n",
       "4          12.0        0.0                   12.0          12.0          12.0   \n",
       "\n",
       "   Trip_type   \n",
       "0        23.0  \n",
       "1        18.0  \n",
       "2        11.5  \n",
       "3         8.0  \n",
       "4        12.0  \n",
       "\n",
       "[5 rows x 23 columns]"
      ]
     },
     "execution_count": 58,
     "metadata": {},
     "output_type": "execute_result"
    }
   ],
   "source": [
    "hdf = ddf.groupby(['Vendor', 'hour'], as_index=False).median()\n",
    "hdf.head()"
   ]
  },
  {
   "cell_type": "code",
   "execution_count": 59,
   "metadata": {},
   "outputs": [
    {
     "data": {
      "text/plain": [
       "<matplotlib.axes._subplots.AxesSubplot at 0x7fcde1d31e50>"
      ]
     },
     "execution_count": 59,
     "metadata": {},
     "output_type": "execute_result"
    },
    {
     "data": {
      "image/png": "[encoded data removed]",
      "text/plain": [
       "<Figure size 864x576 with 1 Axes>"
      ]
     },
     "metadata": {
      "image/png": {
       "height": 480,
       "width": 704
      }
     },
     "output_type": "display_data"
    }
   ],
   "source": [
    "vdf = hdf.pivot(columns='Vendor', index='hour', values='Extra')\n",
    "vdf.plot.bar(rot=45)"
   ]
  },
  {
   "cell_type": "code",
   "execution_count": 60,
   "metadata": {},
   "outputs": [
    {
     "data": {
      "text/html": [
       "<div>\n",
       "<style scoped>\n",
       "    .dataframe tbody tr th:only-of-type {\n",
       "        vertical-align: middle;\n",
       "    }\n",
       "\n",
       "    .dataframe tbody tr th {\n",
       "        vertical-align: top;\n",
       "    }\n",
       "\n",
       "    .dataframe thead th {\n",
       "        text-align: right;\n",
       "    }\n",
       "</style>\n",
       "<table border=\"1\" class=\"dataframe\">\n",
       "  <thead>\n",
       "    <tr style=\"text-align: right;\">\n",
       "      <th>Vendor</th>\n",
       "      <th>Creative</th>\n",
       "      <th>VeriFone</th>\n",
       "    </tr>\n",
       "    <tr>\n",
       "      <th>hour</th>\n",
       "      <th></th>\n",
       "      <th></th>\n",
       "    </tr>\n",
       "  </thead>\n",
       "  <tbody>\n",
       "    <tr>\n",
       "      <th>0</th>\n",
       "      <td>23.0</td>\n",
       "      <td>84.0</td>\n",
       "    </tr>\n",
       "    <tr>\n",
       "      <th>1</th>\n",
       "      <td>18.0</td>\n",
       "      <td>48.0</td>\n",
       "    </tr>\n",
       "    <tr>\n",
       "      <th>2</th>\n",
       "      <td>11.5</td>\n",
       "      <td>33.0</td>\n",
       "    </tr>\n",
       "    <tr>\n",
       "      <th>3</th>\n",
       "      <td>8.0</td>\n",
       "      <td>27.0</td>\n",
       "    </tr>\n",
       "    <tr>\n",
       "      <th>4</th>\n",
       "      <td>12.0</td>\n",
       "      <td>22.0</td>\n",
       "    </tr>\n",
       "  </tbody>\n",
       "</table>\n",
       "</div>"
      ],
      "text/plain": [
       "Vendor  Creative  VeriFone\n",
       "hour                      \n",
       "0           23.0      84.0\n",
       "1           18.0      48.0\n",
       "2           11.5      33.0\n",
       "3            8.0      27.0\n",
       "4           12.0      22.0"
      ]
     },
     "execution_count": 60,
     "metadata": {},
     "output_type": "execute_result"
    }
   ],
   "source": [
    "vdf.head()"
   ]
  },
  {
   "cell_type": "markdown",
   "metadata": {},
   "source": [
    "# Including weather information from a database"
   ]
  },
  {
   "cell_type": "code",
   "execution_count": 61,
   "metadata": {},
   "outputs": [],
   "source": [
    "weather = './Exercise Files/Ch07/07_06/weather.db'"
   ]
  },
  {
   "cell_type": "code",
   "execution_count": 62,
   "metadata": {},
   "outputs": [],
   "source": [
    "import sqlite3"
   ]
  },
  {
   "cell_type": "code",
   "execution_count": 63,
   "metadata": {},
   "outputs": [],
   "source": [
    "conn = sqlite3.connect(weather)"
   ]
  },
  {
   "cell_type": "code",
   "execution_count": 64,
   "metadata": {},
   "outputs": [],
   "source": [
    "wdf = pd.read_sql('SELECT * FROM weather', conn)"
   ]
  },
  {
   "cell_type": "code",
   "execution_count": 65,
   "metadata": {},
   "outputs": [
    {
     "data": {
      "text/plain": [
       "Index(['STATION', 'DATE', 'PRCP', 'SNOW', 'TMAX', 'TMIN'], dtype='object')"
      ]
     },
     "execution_count": 65,
     "metadata": {},
     "output_type": "execute_result"
    }
   ],
   "source": [
    "wdf.columns"
   ]
  },
  {
   "cell_type": "code",
   "execution_count": 66,
   "metadata": {},
   "outputs": [
    {
     "data": {
      "text/plain": [
       "STATION     object\n",
       "PRCP       float64\n",
       "SNOW       float64\n",
       "TMAX         int64\n",
       "TMIN         int64\n",
       "dtype: object"
      ]
     },
     "execution_count": 66,
     "metadata": {},
     "output_type": "execute_result"
    }
   ],
   "source": [
    "wdf = pd.read_sql('SELECT * FROM weather', conn, parse_dates=['DATE'], index_col='DATE')\n",
    "wdf.dtypes"
   ]
  },
  {
   "cell_type": "code",
   "execution_count": 67,
   "metadata": {},
   "outputs": [
    {
     "data": {
      "text/plain": [
       "DatetimeIndex(['2015-03-01', '2015-03-02', '2015-03-03', '2015-03-04',\n",
       "               '2015-03-05', '2015-03-06', '2015-03-07', '2015-03-08',\n",
       "               '2015-03-09', '2015-03-10',\n",
       "               ...\n",
       "               '2016-03-23', '2016-03-24', '2016-03-25', '2016-03-26',\n",
       "               '2016-03-27', '2016-03-28', '2016-03-29', '2016-03-30',\n",
       "               '2016-03-31', '2016-04-01'],\n",
       "              dtype='datetime64[ns]', name='DATE', length=398, freq=None)"
      ]
     },
     "execution_count": 67,
     "metadata": {},
     "output_type": "execute_result"
    }
   ],
   "source": [
    "wdf.index"
   ]
  },
  {
   "cell_type": "code",
   "execution_count": 68,
   "metadata": {},
   "outputs": [
    {
     "data": {
      "text/html": [
       "<div>\n",
       "<style scoped>\n",
       "    .dataframe tbody tr th:only-of-type {\n",
       "        vertical-align: middle;\n",
       "    }\n",
       "\n",
       "    .dataframe tbody tr th {\n",
       "        vertical-align: top;\n",
       "    }\n",
       "\n",
       "    .dataframe thead th {\n",
       "        text-align: right;\n",
       "    }\n",
       "</style>\n",
       "<table border=\"1\" class=\"dataframe\">\n",
       "  <thead>\n",
       "    <tr style=\"text-align: right;\">\n",
       "      <th></th>\n",
       "      <th>PRCP</th>\n",
       "      <th>SNOW</th>\n",
       "      <th>TMAX</th>\n",
       "      <th>TMIN</th>\n",
       "    </tr>\n",
       "  </thead>\n",
       "  <tbody>\n",
       "    <tr>\n",
       "      <th>count</th>\n",
       "      <td>398.000000</td>\n",
       "      <td>398.000000</td>\n",
       "      <td>398.000000</td>\n",
       "      <td>398.000000</td>\n",
       "    </tr>\n",
       "    <tr>\n",
       "      <th>mean</th>\n",
       "      <td>0.109799</td>\n",
       "      <td>0.129146</td>\n",
       "      <td>65.017588</td>\n",
       "      <td>50.035176</td>\n",
       "    </tr>\n",
       "    <tr>\n",
       "      <th>std</th>\n",
       "      <td>0.310245</td>\n",
       "      <td>1.463461</td>\n",
       "      <td>17.556593</td>\n",
       "      <td>16.336782</td>\n",
       "    </tr>\n",
       "    <tr>\n",
       "      <th>min</th>\n",
       "      <td>0.000000</td>\n",
       "      <td>0.000000</td>\n",
       "      <td>15.000000</td>\n",
       "      <td>-1.000000</td>\n",
       "    </tr>\n",
       "    <tr>\n",
       "      <th>25%</th>\n",
       "      <td>0.000000</td>\n",
       "      <td>0.000000</td>\n",
       "      <td>52.000000</td>\n",
       "      <td>38.000000</td>\n",
       "    </tr>\n",
       "    <tr>\n",
       "      <th>50%</th>\n",
       "      <td>0.000000</td>\n",
       "      <td>0.000000</td>\n",
       "      <td>65.000000</td>\n",
       "      <td>50.000000</td>\n",
       "    </tr>\n",
       "    <tr>\n",
       "      <th>75%</th>\n",
       "      <td>0.020000</td>\n",
       "      <td>0.000000</td>\n",
       "      <td>81.750000</td>\n",
       "      <td>65.000000</td>\n",
       "    </tr>\n",
       "    <tr>\n",
       "      <th>max</th>\n",
       "      <td>2.310000</td>\n",
       "      <td>27.300000</td>\n",
       "      <td>97.000000</td>\n",
       "      <td>82.000000</td>\n",
       "    </tr>\n",
       "  </tbody>\n",
       "</table>\n",
       "</div>"
      ],
      "text/plain": [
       "             PRCP        SNOW        TMAX        TMIN\n",
       "count  398.000000  398.000000  398.000000  398.000000\n",
       "mean     0.109799    0.129146   65.017588   50.035176\n",
       "std      0.310245    1.463461   17.556593   16.336782\n",
       "min      0.000000    0.000000   15.000000   -1.000000\n",
       "25%      0.000000    0.000000   52.000000   38.000000\n",
       "50%      0.000000    0.000000   65.000000   50.000000\n",
       "75%      0.020000    0.000000   81.750000   65.000000\n",
       "max      2.310000   27.300000   97.000000   82.000000"
      ]
     },
     "execution_count": 68,
     "metadata": {},
     "output_type": "execute_result"
    }
   ],
   "source": [
    "wdf.describe()"
   ]
  },
  {
   "cell_type": "markdown",
   "metadata": {},
   "source": [
    "The temperature columns are in tenths of degrees celcius, as stated in the .txt provided. Let's use scipy to convert them to farenheit."
   ]
  },
  {
   "cell_type": "code",
   "execution_count": 69,
   "metadata": {},
   "outputs": [],
   "source": [
    "from scipy.constants import convert_temperature"
   ]
  },
  {
   "cell_type": "code",
   "execution_count": 71,
   "metadata": {},
   "outputs": [
    {
     "data": {
      "text/html": [
       "<div>\n",
       "<style scoped>\n",
       "    .dataframe tbody tr th:only-of-type {\n",
       "        vertical-align: middle;\n",
       "    }\n",
       "\n",
       "    .dataframe tbody tr th {\n",
       "        vertical-align: top;\n",
       "    }\n",
       "\n",
       "    .dataframe thead th {\n",
       "        text-align: right;\n",
       "    }\n",
       "</style>\n",
       "<table border=\"1\" class=\"dataframe\">\n",
       "  <thead>\n",
       "    <tr style=\"text-align: right;\">\n",
       "      <th></th>\n",
       "      <th>STATION</th>\n",
       "      <th>PRCP</th>\n",
       "      <th>SNOW</th>\n",
       "      <th>TMAX</th>\n",
       "      <th>TMIN</th>\n",
       "      <th>tempF</th>\n",
       "    </tr>\n",
       "    <tr>\n",
       "      <th>DATE</th>\n",
       "      <th></th>\n",
       "      <th></th>\n",
       "      <th></th>\n",
       "      <th></th>\n",
       "      <th></th>\n",
       "      <th></th>\n",
       "    </tr>\n",
       "  </thead>\n",
       "  <tbody>\n",
       "    <tr>\n",
       "      <th>2015-03-01</th>\n",
       "      <td>GHCND:USW00094728</td>\n",
       "      <td>0.52</td>\n",
       "      <td>4.8</td>\n",
       "      <td>31</td>\n",
       "      <td>24</td>\n",
       "      <td>37.58</td>\n",
       "    </tr>\n",
       "    <tr>\n",
       "      <th>2015-03-02</th>\n",
       "      <td>GHCND:USW00094728</td>\n",
       "      <td>0.00</td>\n",
       "      <td>0.0</td>\n",
       "      <td>39</td>\n",
       "      <td>27</td>\n",
       "      <td>39.02</td>\n",
       "    </tr>\n",
       "    <tr>\n",
       "      <th>2015-03-03</th>\n",
       "      <td>GHCND:USW00094728</td>\n",
       "      <td>0.67</td>\n",
       "      <td>1.8</td>\n",
       "      <td>37</td>\n",
       "      <td>22</td>\n",
       "      <td>38.66</td>\n",
       "    </tr>\n",
       "    <tr>\n",
       "      <th>2015-03-04</th>\n",
       "      <td>GHCND:USW00094728</td>\n",
       "      <td>0.25</td>\n",
       "      <td>0.0</td>\n",
       "      <td>45</td>\n",
       "      <td>35</td>\n",
       "      <td>40.10</td>\n",
       "    </tr>\n",
       "    <tr>\n",
       "      <th>2015-03-05</th>\n",
       "      <td>GHCND:USW00094728</td>\n",
       "      <td>0.76</td>\n",
       "      <td>7.5</td>\n",
       "      <td>40</td>\n",
       "      <td>19</td>\n",
       "      <td>39.20</td>\n",
       "    </tr>\n",
       "  </tbody>\n",
       "</table>\n",
       "</div>"
      ],
      "text/plain": [
       "                      STATION  PRCP  SNOW  TMAX  TMIN  tempF\n",
       "DATE                                                        \n",
       "2015-03-01  GHCND:USW00094728  0.52   4.8    31    24  37.58\n",
       "2015-03-02  GHCND:USW00094728  0.00   0.0    39    27  39.02\n",
       "2015-03-03  GHCND:USW00094728  0.67   1.8    37    22  38.66\n",
       "2015-03-04  GHCND:USW00094728  0.25   0.0    45    35  40.10\n",
       "2015-03-05  GHCND:USW00094728  0.76   7.5    40    19  39.20"
      ]
     },
     "execution_count": 71,
     "metadata": {},
     "output_type": "execute_result"
    }
   ],
   "source": [
    "wdf['tempF'] = convert_temperature(wdf['TMAX']/10, 'C', 'F')\n",
    "wdf.head()"
   ]
  },
  {
   "cell_type": "markdown",
   "metadata": {},
   "source": [
    "We want to join the two dataframes. Date is the index for the weather dataframe, so let's join by index."
   ]
  },
  {
   "cell_type": "code",
   "execution_count": 72,
   "metadata": {},
   "outputs": [],
   "source": [
    "ddf = df.groupby(df['lpep_pickup_datetime'].dt.date).count()"
   ]
  },
  {
   "cell_type": "code",
   "execution_count": 73,
   "metadata": {},
   "outputs": [
    {
     "data": {
      "text/html": [
       "<div>\n",
       "<style scoped>\n",
       "    .dataframe tbody tr th:only-of-type {\n",
       "        vertical-align: middle;\n",
       "    }\n",
       "\n",
       "    .dataframe tbody tr th {\n",
       "        vertical-align: top;\n",
       "    }\n",
       "\n",
       "    .dataframe thead th {\n",
       "        text-align: right;\n",
       "    }\n",
       "</style>\n",
       "<table border=\"1\" class=\"dataframe\">\n",
       "  <thead>\n",
       "    <tr style=\"text-align: right;\">\n",
       "      <th></th>\n",
       "      <th>VendorID</th>\n",
       "      <th>lpep_pickup_datetime</th>\n",
       "      <th>Lpep_dropoff_datetime</th>\n",
       "      <th>Store_and_fwd_flag</th>\n",
       "      <th>RateCodeID</th>\n",
       "      <th>Pickup_longitude</th>\n",
       "      <th>Pickup_latitude</th>\n",
       "      <th>Dropoff_longitude</th>\n",
       "      <th>Dropoff_latitude</th>\n",
       "      <th>Passenger_count</th>\n",
       "      <th>...</th>\n",
       "      <th>Tip_amount</th>\n",
       "      <th>Tolls_amount</th>\n",
       "      <th>Ehail_fee</th>\n",
       "      <th>improvement_surcharge</th>\n",
       "      <th>Total_amount</th>\n",
       "      <th>Payment_type</th>\n",
       "      <th>Trip_type</th>\n",
       "      <th>Vendor</th>\n",
       "      <th>hour</th>\n",
       "      <th>day</th>\n",
       "    </tr>\n",
       "    <tr>\n",
       "      <th>lpep_pickup_datetime</th>\n",
       "      <th></th>\n",
       "      <th></th>\n",
       "      <th></th>\n",
       "      <th></th>\n",
       "      <th></th>\n",
       "      <th></th>\n",
       "      <th></th>\n",
       "      <th></th>\n",
       "      <th></th>\n",
       "      <th></th>\n",
       "      <th></th>\n",
       "      <th></th>\n",
       "      <th></th>\n",
       "      <th></th>\n",
       "      <th></th>\n",
       "      <th></th>\n",
       "      <th></th>\n",
       "      <th></th>\n",
       "      <th></th>\n",
       "      <th></th>\n",
       "      <th></th>\n",
       "    </tr>\n",
       "  </thead>\n",
       "  <tbody>\n",
       "    <tr>\n",
       "      <th>2015-03-01</th>\n",
       "      <td>3177</td>\n",
       "      <td>3177</td>\n",
       "      <td>3177</td>\n",
       "      <td>3177</td>\n",
       "      <td>3177</td>\n",
       "      <td>3177</td>\n",
       "      <td>3177</td>\n",
       "      <td>3177</td>\n",
       "      <td>3177</td>\n",
       "      <td>3177</td>\n",
       "      <td>...</td>\n",
       "      <td>3177</td>\n",
       "      <td>3177</td>\n",
       "      <td>0</td>\n",
       "      <td>3177</td>\n",
       "      <td>3177</td>\n",
       "      <td>3177</td>\n",
       "      <td>3177</td>\n",
       "      <td>3177</td>\n",
       "      <td>3177</td>\n",
       "      <td>3177</td>\n",
       "    </tr>\n",
       "    <tr>\n",
       "      <th>2015-03-02</th>\n",
       "      <td>2775</td>\n",
       "      <td>2775</td>\n",
       "      <td>2775</td>\n",
       "      <td>2775</td>\n",
       "      <td>2775</td>\n",
       "      <td>2775</td>\n",
       "      <td>2775</td>\n",
       "      <td>2775</td>\n",
       "      <td>2775</td>\n",
       "      <td>2775</td>\n",
       "      <td>...</td>\n",
       "      <td>2775</td>\n",
       "      <td>2775</td>\n",
       "      <td>0</td>\n",
       "      <td>2775</td>\n",
       "      <td>2775</td>\n",
       "      <td>2775</td>\n",
       "      <td>2775</td>\n",
       "      <td>2775</td>\n",
       "      <td>2775</td>\n",
       "      <td>2775</td>\n",
       "    </tr>\n",
       "    <tr>\n",
       "      <th>2015-03-03</th>\n",
       "      <td>2990</td>\n",
       "      <td>2990</td>\n",
       "      <td>2990</td>\n",
       "      <td>2990</td>\n",
       "      <td>2990</td>\n",
       "      <td>2990</td>\n",
       "      <td>2990</td>\n",
       "      <td>2990</td>\n",
       "      <td>2990</td>\n",
       "      <td>2990</td>\n",
       "      <td>...</td>\n",
       "      <td>2990</td>\n",
       "      <td>2990</td>\n",
       "      <td>0</td>\n",
       "      <td>2990</td>\n",
       "      <td>2990</td>\n",
       "      <td>2990</td>\n",
       "      <td>2990</td>\n",
       "      <td>2990</td>\n",
       "      <td>2990</td>\n",
       "      <td>2990</td>\n",
       "    </tr>\n",
       "    <tr>\n",
       "      <th>2015-03-04</th>\n",
       "      <td>3072</td>\n",
       "      <td>3072</td>\n",
       "      <td>3072</td>\n",
       "      <td>3072</td>\n",
       "      <td>3072</td>\n",
       "      <td>3072</td>\n",
       "      <td>3072</td>\n",
       "      <td>3072</td>\n",
       "      <td>3072</td>\n",
       "      <td>3072</td>\n",
       "      <td>...</td>\n",
       "      <td>3072</td>\n",
       "      <td>3072</td>\n",
       "      <td>0</td>\n",
       "      <td>3072</td>\n",
       "      <td>3072</td>\n",
       "      <td>3072</td>\n",
       "      <td>3072</td>\n",
       "      <td>3072</td>\n",
       "      <td>3072</td>\n",
       "      <td>3072</td>\n",
       "    </tr>\n",
       "    <tr>\n",
       "      <th>2015-03-05</th>\n",
       "      <td>2491</td>\n",
       "      <td>2491</td>\n",
       "      <td>2491</td>\n",
       "      <td>2491</td>\n",
       "      <td>2491</td>\n",
       "      <td>2491</td>\n",
       "      <td>2491</td>\n",
       "      <td>2491</td>\n",
       "      <td>2491</td>\n",
       "      <td>2491</td>\n",
       "      <td>...</td>\n",
       "      <td>2491</td>\n",
       "      <td>2491</td>\n",
       "      <td>0</td>\n",
       "      <td>2491</td>\n",
       "      <td>2491</td>\n",
       "      <td>2491</td>\n",
       "      <td>2491</td>\n",
       "      <td>2491</td>\n",
       "      <td>2491</td>\n",
       "      <td>2491</td>\n",
       "    </tr>\n",
       "  </tbody>\n",
       "</table>\n",
       "<p>5 rows × 24 columns</p>\n",
       "</div>"
      ],
      "text/plain": [
       "                      VendorID  lpep_pickup_datetime  Lpep_dropoff_datetime  \\\n",
       "lpep_pickup_datetime                                                          \n",
       "2015-03-01                3177                  3177                   3177   \n",
       "2015-03-02                2775                  2775                   2775   \n",
       "2015-03-03                2990                  2990                   2990   \n",
       "2015-03-04                3072                  3072                   3072   \n",
       "2015-03-05                2491                  2491                   2491   \n",
       "\n",
       "                      Store_and_fwd_flag  RateCodeID  Pickup_longitude  \\\n",
       "lpep_pickup_datetime                                                     \n",
       "2015-03-01                          3177        3177              3177   \n",
       "2015-03-02                          2775        2775              2775   \n",
       "2015-03-03                          2990        2990              2990   \n",
       "2015-03-04                          3072        3072              3072   \n",
       "2015-03-05                          2491        2491              2491   \n",
       "\n",
       "                      Pickup_latitude  Dropoff_longitude  Dropoff_latitude  \\\n",
       "lpep_pickup_datetime                                                         \n",
       "2015-03-01                       3177               3177              3177   \n",
       "2015-03-02                       2775               2775              2775   \n",
       "2015-03-03                       2990               2990              2990   \n",
       "2015-03-04                       3072               3072              3072   \n",
       "2015-03-05                       2491               2491              2491   \n",
       "\n",
       "                      Passenger_count  ...  Tip_amount  Tolls_amount  \\\n",
       "lpep_pickup_datetime                   ...                             \n",
       "2015-03-01                       3177  ...        3177          3177   \n",
       "2015-03-02                       2775  ...        2775          2775   \n",
       "2015-03-03                       2990  ...        2990          2990   \n",
       "2015-03-04                       3072  ...        3072          3072   \n",
       "2015-03-05                       2491  ...        2491          2491   \n",
       "\n",
       "                      Ehail_fee  improvement_surcharge  Total_amount  \\\n",
       "lpep_pickup_datetime                                                   \n",
       "2015-03-01                    0                   3177          3177   \n",
       "2015-03-02                    0                   2775          2775   \n",
       "2015-03-03                    0                   2990          2990   \n",
       "2015-03-04                    0                   3072          3072   \n",
       "2015-03-05                    0                   2491          2491   \n",
       "\n",
       "                      Payment_type  Trip_type   Vendor  hour   day  \n",
       "lpep_pickup_datetime                                                \n",
       "2015-03-01                    3177        3177    3177  3177  3177  \n",
       "2015-03-02                    2775        2775    2775  2775  2775  \n",
       "2015-03-03                    2990        2990    2990  2990  2990  \n",
       "2015-03-04                    3072        3072    3072  3072  3072  \n",
       "2015-03-05                    2491        2491    2491  2491  2491  \n",
       "\n",
       "[5 rows x 24 columns]"
      ]
     },
     "execution_count": 73,
     "metadata": {},
     "output_type": "execute_result"
    }
   ],
   "source": [
    "ddf.head()"
   ]
  },
  {
   "cell_type": "code",
   "execution_count": 74,
   "metadata": {},
   "outputs": [
    {
     "data": {
      "text/html": [
       "<div>\n",
       "<style scoped>\n",
       "    .dataframe tbody tr th:only-of-type {\n",
       "        vertical-align: middle;\n",
       "    }\n",
       "\n",
       "    .dataframe tbody tr th {\n",
       "        vertical-align: top;\n",
       "    }\n",
       "\n",
       "    .dataframe thead th {\n",
       "        text-align: right;\n",
       "    }\n",
       "</style>\n",
       "<table border=\"1\" class=\"dataframe\">\n",
       "  <thead>\n",
       "    <tr style=\"text-align: right;\">\n",
       "      <th></th>\n",
       "      <th>VendorID</th>\n",
       "      <th>lpep_pickup_datetime</th>\n",
       "      <th>Lpep_dropoff_datetime</th>\n",
       "      <th>Store_and_fwd_flag</th>\n",
       "      <th>RateCodeID</th>\n",
       "      <th>Pickup_longitude</th>\n",
       "      <th>Pickup_latitude</th>\n",
       "      <th>Dropoff_longitude</th>\n",
       "      <th>Dropoff_latitude</th>\n",
       "      <th>Passenger_count</th>\n",
       "      <th>...</th>\n",
       "      <th>Trip_type</th>\n",
       "      <th>Vendor</th>\n",
       "      <th>hour</th>\n",
       "      <th>day</th>\n",
       "      <th>STATION</th>\n",
       "      <th>PRCP</th>\n",
       "      <th>SNOW</th>\n",
       "      <th>TMAX</th>\n",
       "      <th>TMIN</th>\n",
       "      <th>tempF</th>\n",
       "    </tr>\n",
       "    <tr>\n",
       "      <th>lpep_pickup_datetime</th>\n",
       "      <th></th>\n",
       "      <th></th>\n",
       "      <th></th>\n",
       "      <th></th>\n",
       "      <th></th>\n",
       "      <th></th>\n",
       "      <th></th>\n",
       "      <th></th>\n",
       "      <th></th>\n",
       "      <th></th>\n",
       "      <th></th>\n",
       "      <th></th>\n",
       "      <th></th>\n",
       "      <th></th>\n",
       "      <th></th>\n",
       "      <th></th>\n",
       "      <th></th>\n",
       "      <th></th>\n",
       "      <th></th>\n",
       "      <th></th>\n",
       "      <th></th>\n",
       "    </tr>\n",
       "  </thead>\n",
       "  <tbody>\n",
       "    <tr>\n",
       "      <th>2015-03-01</th>\n",
       "      <td>3177</td>\n",
       "      <td>3177</td>\n",
       "      <td>3177</td>\n",
       "      <td>3177</td>\n",
       "      <td>3177</td>\n",
       "      <td>3177</td>\n",
       "      <td>3177</td>\n",
       "      <td>3177</td>\n",
       "      <td>3177</td>\n",
       "      <td>3177</td>\n",
       "      <td>...</td>\n",
       "      <td>3177</td>\n",
       "      <td>3177</td>\n",
       "      <td>3177</td>\n",
       "      <td>3177</td>\n",
       "      <td>GHCND:USW00094728</td>\n",
       "      <td>0.52</td>\n",
       "      <td>4.8</td>\n",
       "      <td>31</td>\n",
       "      <td>24</td>\n",
       "      <td>37.58</td>\n",
       "    </tr>\n",
       "    <tr>\n",
       "      <th>2015-03-02</th>\n",
       "      <td>2775</td>\n",
       "      <td>2775</td>\n",
       "      <td>2775</td>\n",
       "      <td>2775</td>\n",
       "      <td>2775</td>\n",
       "      <td>2775</td>\n",
       "      <td>2775</td>\n",
       "      <td>2775</td>\n",
       "      <td>2775</td>\n",
       "      <td>2775</td>\n",
       "      <td>...</td>\n",
       "      <td>2775</td>\n",
       "      <td>2775</td>\n",
       "      <td>2775</td>\n",
       "      <td>2775</td>\n",
       "      <td>GHCND:USW00094728</td>\n",
       "      <td>0.00</td>\n",
       "      <td>0.0</td>\n",
       "      <td>39</td>\n",
       "      <td>27</td>\n",
       "      <td>39.02</td>\n",
       "    </tr>\n",
       "    <tr>\n",
       "      <th>2015-03-03</th>\n",
       "      <td>2990</td>\n",
       "      <td>2990</td>\n",
       "      <td>2990</td>\n",
       "      <td>2990</td>\n",
       "      <td>2990</td>\n",
       "      <td>2990</td>\n",
       "      <td>2990</td>\n",
       "      <td>2990</td>\n",
       "      <td>2990</td>\n",
       "      <td>2990</td>\n",
       "      <td>...</td>\n",
       "      <td>2990</td>\n",
       "      <td>2990</td>\n",
       "      <td>2990</td>\n",
       "      <td>2990</td>\n",
       "      <td>GHCND:USW00094728</td>\n",
       "      <td>0.67</td>\n",
       "      <td>1.8</td>\n",
       "      <td>37</td>\n",
       "      <td>22</td>\n",
       "      <td>38.66</td>\n",
       "    </tr>\n",
       "    <tr>\n",
       "      <th>2015-03-04</th>\n",
       "      <td>3072</td>\n",
       "      <td>3072</td>\n",
       "      <td>3072</td>\n",
       "      <td>3072</td>\n",
       "      <td>3072</td>\n",
       "      <td>3072</td>\n",
       "      <td>3072</td>\n",
       "      <td>3072</td>\n",
       "      <td>3072</td>\n",
       "      <td>3072</td>\n",
       "      <td>...</td>\n",
       "      <td>3072</td>\n",
       "      <td>3072</td>\n",
       "      <td>3072</td>\n",
       "      <td>3072</td>\n",
       "      <td>GHCND:USW00094728</td>\n",
       "      <td>0.25</td>\n",
       "      <td>0.0</td>\n",
       "      <td>45</td>\n",
       "      <td>35</td>\n",
       "      <td>40.10</td>\n",
       "    </tr>\n",
       "    <tr>\n",
       "      <th>2015-03-05</th>\n",
       "      <td>2491</td>\n",
       "      <td>2491</td>\n",
       "      <td>2491</td>\n",
       "      <td>2491</td>\n",
       "      <td>2491</td>\n",
       "      <td>2491</td>\n",
       "      <td>2491</td>\n",
       "      <td>2491</td>\n",
       "      <td>2491</td>\n",
       "      <td>2491</td>\n",
       "      <td>...</td>\n",
       "      <td>2491</td>\n",
       "      <td>2491</td>\n",
       "      <td>2491</td>\n",
       "      <td>2491</td>\n",
       "      <td>GHCND:USW00094728</td>\n",
       "      <td>0.76</td>\n",
       "      <td>7.5</td>\n",
       "      <td>40</td>\n",
       "      <td>19</td>\n",
       "      <td>39.20</td>\n",
       "    </tr>\n",
       "  </tbody>\n",
       "</table>\n",
       "<p>5 rows × 30 columns</p>\n",
       "</div>"
      ],
      "text/plain": [
       "                      VendorID  lpep_pickup_datetime  Lpep_dropoff_datetime  \\\n",
       "lpep_pickup_datetime                                                          \n",
       "2015-03-01                3177                  3177                   3177   \n",
       "2015-03-02                2775                  2775                   2775   \n",
       "2015-03-03                2990                  2990                   2990   \n",
       "2015-03-04                3072                  3072                   3072   \n",
       "2015-03-05                2491                  2491                   2491   \n",
       "\n",
       "                      Store_and_fwd_flag  RateCodeID  Pickup_longitude  \\\n",
       "lpep_pickup_datetime                                                     \n",
       "2015-03-01                          3177        3177              3177   \n",
       "2015-03-02                          2775        2775              2775   \n",
       "2015-03-03                          2990        2990              2990   \n",
       "2015-03-04                          3072        3072              3072   \n",
       "2015-03-05                          2491        2491              2491   \n",
       "\n",
       "                      Pickup_latitude  Dropoff_longitude  Dropoff_latitude  \\\n",
       "lpep_pickup_datetime                                                         \n",
       "2015-03-01                       3177               3177              3177   \n",
       "2015-03-02                       2775               2775              2775   \n",
       "2015-03-03                       2990               2990              2990   \n",
       "2015-03-04                       3072               3072              3072   \n",
       "2015-03-05                       2491               2491              2491   \n",
       "\n",
       "                      Passenger_count  ...  Trip_type   Vendor  hour   day  \\\n",
       "lpep_pickup_datetime                   ...                                   \n",
       "2015-03-01                       3177  ...        3177    3177  3177  3177   \n",
       "2015-03-02                       2775  ...        2775    2775  2775  2775   \n",
       "2015-03-03                       2990  ...        2990    2990  2990  2990   \n",
       "2015-03-04                       3072  ...        3072    3072  3072  3072   \n",
       "2015-03-05                       2491  ...        2491    2491  2491  2491   \n",
       "\n",
       "                                STATION  PRCP  SNOW  TMAX  TMIN  tempF  \n",
       "lpep_pickup_datetime                                                    \n",
       "2015-03-01            GHCND:USW00094728  0.52   4.8    31    24  37.58  \n",
       "2015-03-02            GHCND:USW00094728  0.00   0.0    39    27  39.02  \n",
       "2015-03-03            GHCND:USW00094728  0.67   1.8    37    22  38.66  \n",
       "2015-03-04            GHCND:USW00094728  0.25   0.0    45    35  40.10  \n",
       "2015-03-05            GHCND:USW00094728  0.76   7.5    40    19  39.20  \n",
       "\n",
       "[5 rows x 30 columns]"
      ]
     },
     "execution_count": 74,
     "metadata": {},
     "output_type": "execute_result"
    }
   ],
   "source": [
    "jdf = ddf.join(wdf)\n",
    "jdf.head()"
   ]
  },
  {
   "cell_type": "code",
   "execution_count": 75,
   "metadata": {},
   "outputs": [
    {
     "data": {
      "text/plain": [
       "<matplotlib.axes._subplots.AxesSubplot at 0x7fcdf15432b0>"
      ]
     },
     "execution_count": 75,
     "metadata": {},
     "output_type": "execute_result"
    },
    {
     "data": {
      "image/png": "[encoded data removed]",
      "text/plain": [
       "<Figure size 864x576 with 1 Axes>"
      ]
     },
     "metadata": {
      "image/png": {
       "height": 475,
       "width": 723
      }
     },
     "output_type": "display_data"
    }
   ],
   "source": [
    "jdf.plot.scatter(x='tempF', y='Vendor')"
   ]
  },
  {
   "cell_type": "code",
   "execution_count": 76,
   "metadata": {},
   "outputs": [
    {
     "data": {
      "text/plain": [
       "Text(0, 0.5, 'Daily rides')"
      ]
     },
     "execution_count": 76,
     "metadata": {},
     "output_type": "execute_result"
    },
    {
     "data": {
      "image/png": "[encoded data removed]",
      "text/plain": [
       "<Figure size 864x576 with 1 Axes>"
      ]
     },
     "metadata": {
      "image/png": {
       "height": 475,
       "width": 723
      }
     },
     "output_type": "display_data"
    }
   ],
   "source": [
    "ax = jdf.plot.scatter(x='tempF', y='Vendor')\n",
    "ax.set_ylabel('Daily rides')"
   ]
  },
  {
   "cell_type": "code",
   "execution_count": null,
   "metadata": {},
   "outputs": [],
   "source": []
  }
 ],
 "metadata": {
  "kernelspec": {
   "display_name": "pfds",
   "language": "python",
   "name": "pfds"
  },
  "language_info": {
   "codemirror_mode": {
    "name": "ipython",
    "version": 3
   },
   "file_extension": ".py",
   "mimetype": "text/x-python",
   "name": "python",
   "nbconvert_exporter": "python",
   "pygments_lexer": "ipython3",
   "version": "3.8.2"
  }
 },
 "nbformat": 4,
 "nbformat_minor": 4
}
