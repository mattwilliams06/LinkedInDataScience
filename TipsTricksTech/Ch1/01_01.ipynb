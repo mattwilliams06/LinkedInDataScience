{
 "cells": [
  {
   "cell_type": "markdown",
   "metadata": {},
   "source": [
    "# Working with JSON"
   ]
  },
  {
   "cell_type": "code",
   "execution_count": 1,
   "metadata": {},
   "outputs": [],
   "source": [
    "import json"
   ]
  },
  {
   "cell_type": "code",
   "execution_count": 2,
   "metadata": {},
   "outputs": [],
   "source": [
    "address = '/Users/mattwilliams/Documents/LinkedInLearning/TipsTricksTech/Exercise Files/data/monthlySalesbyCategoryMultiple.json'"
   ]
  },
  {
   "cell_type": "code",
   "execution_count": 3,
   "metadata": {},
   "outputs": [],
   "source": [
    "with open(address) as json_data:\n",
    "    d = json.load(json_data)"
   ]
  },
  {
   "cell_type": "code",
   "execution_count": 4,
   "metadata": {},
   "outputs": [
    {
     "data": {
      "text/plain": [
       "{'contents': [{'category': 'Furniture',\n",
       "   'region': 'West',\n",
       "   'monthlySales': [{'month': 20130101, 'sales': 38},\n",
       "    {'month': 20130201, 'sales': 35},\n",
       "    {'month': 20130301, 'sales': 41},\n",
       "    {'month': 20130401, 'sales': 55},\n",
       "    {'month': 20130501, 'sales': 58},\n",
       "    {'month': 20130601, 'sales': 66},\n",
       "    {'month': 20130701, 'sales': 74},\n",
       "    {'month': 20130801, 'sales': 78},\n",
       "    {'month': 20130901, 'sales': 38},\n",
       "    {'month': 20131001, 'sales': 30},\n",
       "    {'month': 20131101, 'sales': 26},\n",
       "    {'month': 20131201, 'sales': 29}]},\n",
       "  {'category': 'Technology',\n",
       "   'region': 'West',\n",
       "   'monthlySales': [{'month': 20130101, 'sales': 54},\n",
       "    {'month': 20130201, 'sales': 66},\n",
       "    {'month': 20130301, 'sales': 77},\n",
       "    {'month': 20130401, 'sales': 70},\n",
       "    {'month': 20130501, 'sales': 60},\n",
       "    {'month': 20130601, 'sales': 63},\n",
       "    {'month': 20130701, 'sales': 55},\n",
       "    {'month': 20130801, 'sales': 47},\n",
       "    {'month': 20130901, 'sales': 55},\n",
       "    {'month': 20131001, 'sales': 30},\n",
       "    {'month': 20131101, 'sales': 22},\n",
       "    {'month': 20131201, 'sales': 77}]}]}"
      ]
     },
     "execution_count": 4,
     "metadata": {},
     "output_type": "execute_result"
    }
   ],
   "source": [
    "d"
   ]
  },
  {
   "cell_type": "code",
   "execution_count": 6,
   "metadata": {},
   "outputs": [
    {
     "name": "stdout",
     "output_type": "stream",
     "text": [
      "dict_keys(['contents'])\n"
     ]
    }
   ],
   "source": [
    "print(d.keys())"
   ]
  },
  {
   "cell_type": "code",
   "execution_count": 9,
   "metadata": {},
   "outputs": [
    {
     "name": "stdout",
     "output_type": "stream",
     "text": [
      "dict_keys(['category', 'region', 'monthlySales'])\n",
      "dict_keys(['category', 'region', 'monthlySales'])\n"
     ]
    }
   ],
   "source": [
    "for a in d['contents']:\n",
    "    print(a.keys())"
   ]
  },
  {
   "cell_type": "code",
   "execution_count": 12,
   "metadata": {},
   "outputs": [
    {
     "name": "stdout",
     "output_type": "stream",
     "text": [
      "{'category': 'Furniture', 'region': 'West', 'monthlySales': [{'month': 20130101, 'sales': 38}, {'month': 20130201, 'sales': 35}, {'month': 20130301, 'sales': 41}, {'month': 20130401, 'sales': 55}, {'month': 20130501, 'sales': 58}, {'month': 20130601, 'sales': 66}, {'month': 20130701, 'sales': 74}, {'month': 20130801, 'sales': 78}, {'month': 20130901, 'sales': 38}, {'month': 20131001, 'sales': 30}, {'month': 20131101, 'sales': 26}, {'month': 20131201, 'sales': 29}]}\n",
      "{'category': 'Technology', 'region': 'West', 'monthlySales': [{'month': 20130101, 'sales': 54}, {'month': 20130201, 'sales': 66}, {'month': 20130301, 'sales': 77}, {'month': 20130401, 'sales': 70}, {'month': 20130501, 'sales': 60}, {'month': 20130601, 'sales': 63}, {'month': 20130701, 'sales': 55}, {'month': 20130801, 'sales': 47}, {'month': 20130901, 'sales': 55}, {'month': 20131001, 'sales': 30}, {'month': 20131101, 'sales': 22}, {'month': 20131201, 'sales': 77}]}\n"
     ]
    }
   ],
   "source": [
    "for key in d.keys():\n",
    "    for keys in d[key]:\n",
    "        print(keys)"
   ]
  },
  {
   "cell_type": "code",
   "execution_count": 18,
   "metadata": {},
   "outputs": [
    {
     "name": "stdout",
     "output_type": "stream",
     "text": [
      "\n",
      "contents: [{'category': 'Furniture', 'region': 'West', 'monthlySales': [{'month': 20130101, 'sales': 38}, {'month': 20130201, 'sales': 35}, {'month': 20130301, 'sales': 41}, {'month': 20130401, 'sales': 55}, {'month': 20130501, 'sales': 58}, {'month': 20130601, 'sales': 66}, {'month': 20130701, 'sales': 74}, {'month': 20130801, 'sales': 78}, {'month': 20130901, 'sales': 38}, {'month': 20131001, 'sales': 30}, {'month': 20131101, 'sales': 26}, {'month': 20131201, 'sales': 29}]}, {'category': 'Technology', 'region': 'West', 'monthlySales': [{'month': 20130101, 'sales': 54}, {'month': 20130201, 'sales': 66}, {'month': 20130301, 'sales': 77}, {'month': 20130401, 'sales': 70}, {'month': 20130501, 'sales': 60}, {'month': 20130601, 'sales': 63}, {'month': 20130701, 'sales': 55}, {'month': 20130801, 'sales': 47}, {'month': 20130901, 'sales': 55}, {'month': 20131001, 'sales': 30}, {'month': 20131101, 'sales': 22}, {'month': 20131201, 'sales': 77}]}]\n"
     ]
    }
   ],
   "source": [
    "for key, value in d.items():\n",
    "    print(f'{key}: {value}')"
   ]
  },
  {
   "cell_type": "code",
   "execution_count": 19,
   "metadata": {},
   "outputs": [
    {
     "name": "stdout",
     "output_type": "stream",
     "text": [
      "category: Furniture\n",
      "region: West\n",
      "monthlySales: [{'month': 20130101, 'sales': 38}, {'month': 20130201, 'sales': 35}, {'month': 20130301, 'sales': 41}, {'month': 20130401, 'sales': 55}, {'month': 20130501, 'sales': 58}, {'month': 20130601, 'sales': 66}, {'month': 20130701, 'sales': 74}, {'month': 20130801, 'sales': 78}, {'month': 20130901, 'sales': 38}, {'month': 20131001, 'sales': 30}, {'month': 20131101, 'sales': 26}, {'month': 20131201, 'sales': 29}]\n",
      "category: Technology\n",
      "region: West\n",
      "monthlySales: [{'month': 20130101, 'sales': 54}, {'month': 20130201, 'sales': 66}, {'month': 20130301, 'sales': 77}, {'month': 20130401, 'sales': 70}, {'month': 20130501, 'sales': 60}, {'month': 20130601, 'sales': 63}, {'month': 20130701, 'sales': 55}, {'month': 20130801, 'sales': 47}, {'month': 20130901, 'sales': 55}, {'month': 20131001, 'sales': 30}, {'month': 20131101, 'sales': 22}, {'month': 20131201, 'sales': 77}]\n"
     ]
    }
   ],
   "source": [
    "for a in d['contents']:\n",
    "    for k, v in a.items():\n",
    "        print(f'{k}: {v}')"
   ]
  },
  {
   "cell_type": "code",
   "execution_count": 21,
   "metadata": {},
   "outputs": [
    {
     "name": "stdout",
     "output_type": "stream",
     "text": [
      "month: 20130101\n",
      "sales: 38\n",
      "month: 20130201\n",
      "sales: 35\n",
      "month: 20130301\n",
      "sales: 41\n",
      "month: 20130401\n",
      "sales: 55\n",
      "month: 20130501\n",
      "sales: 58\n",
      "month: 20130601\n",
      "sales: 66\n",
      "month: 20130701\n",
      "sales: 74\n",
      "month: 20130801\n",
      "sales: 78\n",
      "month: 20130901\n",
      "sales: 38\n",
      "month: 20131001\n",
      "sales: 30\n",
      "month: 20131101\n",
      "sales: 26\n",
      "month: 20131201\n",
      "sales: 29\n",
      "month: 20130101\n",
      "sales: 54\n",
      "month: 20130201\n",
      "sales: 66\n",
      "month: 20130301\n",
      "sales: 77\n",
      "month: 20130401\n",
      "sales: 70\n",
      "month: 20130501\n",
      "sales: 60\n",
      "month: 20130601\n",
      "sales: 63\n",
      "month: 20130701\n",
      "sales: 55\n",
      "month: 20130801\n",
      "sales: 47\n",
      "month: 20130901\n",
      "sales: 55\n",
      "month: 20131001\n",
      "sales: 30\n",
      "month: 20131101\n",
      "sales: 22\n",
      "month: 20131201\n",
      "sales: 77\n"
     ]
    }
   ],
   "source": [
    "for a in d['contents']:\n",
    "    for b in a['monthlySales']:\n",
    "        for k, v in b.items():\n",
    "            print(f'{k}: {v}')"
   ]
  },
  {
   "cell_type": "markdown",
   "metadata": {},
   "source": []
  }
 ],
 "metadata": {
  "kernelspec": {
   "display_name": "pfds",
   "language": "python",
   "name": "pfds"
  },
  "language_info": {
   "codemirror_mode": {
    "name": "ipython",
    "version": 3
   },
   "file_extension": ".py",
   "mimetype": "text/x-python",
   "name": "python",
   "nbconvert_exporter": "python",
   "pygments_lexer": "ipython3",
   "version": "3.8.2"
  }
 },
 "nbformat": 4,
 "nbformat_minor": 4
}
