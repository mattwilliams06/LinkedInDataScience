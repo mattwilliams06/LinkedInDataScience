{
 "cells": [
  {
   "cell_type": "code",
   "execution_count": 1,
   "metadata": {},
   "outputs": [],
   "source": [
    "import csv"
   ]
  },
  {
   "cell_type": "code",
   "execution_count": 2,
   "metadata": {},
   "outputs": [],
   "source": [
    "address = '/Users/mattwilliams/Documents/LinkedInLearning/TipsTricksTech/Exercise Files/data/MonthlySales.csv'"
   ]
  },
  {
   "cell_type": "code",
   "execution_count": 3,
   "metadata": {},
   "outputs": [],
   "source": [
    "monthlySales = []"
   ]
  },
  {
   "cell_type": "code",
   "execution_count": 4,
   "metadata": {},
   "outputs": [],
   "source": [
    "with open(address, 'r') as f:\n",
    "    reader = csv.DictReader(f)\n",
    "    for row in reader:\n",
    "        monthlySales.append(row)"
   ]
  },
  {
   "cell_type": "code",
   "execution_count": 6,
   "metadata": {},
   "outputs": [
    {
     "data": {
      "text/plain": [
       "[{'month': '2013-01-01', 'sales': '14236.90'},\n",
       " {'month': '2013-02-01', 'sales': '4519.89'},\n",
       " {'month': '2013-03-01', 'sales': '55691.01'},\n",
       " {'month': '2013-04-01', 'sales': '28295.35'},\n",
       " {'month': '2013-05-01', 'sales': '23648.29'},\n",
       " {'month': '2013-06-01', 'sales': '34595.13'},\n",
       " {'month': '2013-07-01', 'sales': '33946.39'},\n",
       " {'month': '2013-08-01', 'sales': '27909.47'},\n",
       " {'month': '2013-09-01', 'sales': '81777.35'},\n",
       " {'month': '2013-10-01', 'sales': '31453.39'}]"
      ]
     },
     "execution_count": 6,
     "metadata": {},
     "output_type": "execute_result"
    }
   ],
   "source": [
    "monthlySales[0:10]"
   ]
  },
  {
   "cell_type": "code",
   "execution_count": 7,
   "metadata": {},
   "outputs": [
    {
     "data": {
      "text/plain": [
       "48"
      ]
     },
     "execution_count": 7,
     "metadata": {},
     "output_type": "execute_result"
    }
   ],
   "source": [
    "len(monthlySales)"
   ]
  },
  {
   "cell_type": "code",
   "execution_count": null,
   "metadata": {},
   "outputs": [],
   "source": []
  }
 ],
 "metadata": {
  "kernelspec": {
   "display_name": "Python 3",
   "language": "python",
   "name": "python3"
  },
  "language_info": {
   "codemirror_mode": {
    "name": "ipython",
    "version": 3
   },
   "file_extension": ".py",
   "mimetype": "text/x-python",
   "name": "python",
   "nbconvert_exporter": "python",
   "pygments_lexer": "ipython3",
   "version": "3.8.2"
  }
 },
 "nbformat": 4,
 "nbformat_minor": 4
}
